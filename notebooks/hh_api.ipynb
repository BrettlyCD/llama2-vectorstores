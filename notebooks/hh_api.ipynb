{
 "cells": [
  {
   "cell_type": "markdown",
   "metadata": {},
   "source": [
    "# HarmonyHaven\n",
    "\n",
    "HH will be an AI-Powered virtual garden to support collaboration and teamwork, with a focus on mental health, and drive engagement for remote workers.\n",
    "\n",
    "## Data Integration\n",
    "\n",
    "Our vision is to connect with business tools popular today and pull in their data to track projects and interactions. And then use this data not only to track these things but integrate AI for summarization, recommendations, etc."
   ]
  },
  {
   "cell_type": "markdown",
   "metadata": {},
   "source": [
    "### Imports"
   ]
  },
  {
   "cell_type": "code",
   "execution_count": 1,
   "metadata": {},
   "outputs": [],
   "source": [
    "import os\n",
    "import json\n",
    "import requests\n",
    "import pandas as pd\n",
    "from datetime import datetime, timezone\n",
    "\n",
    "from notion_client import Client\n",
    "from dotenv import load_dotenv"
   ]
  },
  {
   "cell_type": "markdown",
   "metadata": {},
   "source": [
    "### Setup API Variables"
   ]
  },
  {
   "cell_type": "code",
   "execution_count": 2,
   "metadata": {},
   "outputs": [],
   "source": [
    "load_dotenv()\n",
    "api_token = os.getenv('hh_notion_token')\n",
    "\n",
    "notion_request_headers = {\n",
    "    \"Authorization\": f\"Bearer {api_token}\",\n",
    "    \"Content-Type\": \"application/json\",\n",
    "    \"Notion-Version\": \"2022-06-28\"\n",
    "}\n",
    "\n",
    "notion = Client(auth=api_token)"
   ]
  },
  {
   "cell_type": "markdown",
   "metadata": {},
   "source": [
    "### Users"
   ]
  },
  {
   "cell_type": "code",
   "execution_count": 3,
   "metadata": {},
   "outputs": [],
   "source": [
    "users = notion.users.list()['results']"
   ]
  },
  {
   "cell_type": "code",
   "execution_count": 4,
   "metadata": {},
   "outputs": [
    {
     "data": {
      "text/plain": [
       "{'object': 'user',\n",
       " 'id': '73daee2c-ca1d-4f67-95f9-8fa2b09f7c76',\n",
       " 'name': 'Wenqian Deng',\n",
       " 'avatar_url': None,\n",
       " 'type': 'person',\n",
       " 'person': {'email': 'kristywdeng@gmail.com'}}"
      ]
     },
     "execution_count": 4,
     "metadata": {},
     "output_type": "execute_result"
    }
   ],
   "source": [
    "users[0]"
   ]
  },
  {
   "cell_type": "code",
   "execution_count": 5,
   "metadata": {},
   "outputs": [],
   "source": [
    "#setup user list and save each user info\n",
    "#have a user record primary key for unique source and user combos\n",
    "user_list = []\n",
    "\n",
    "for user in users:\n",
    "    if user['type'] == 'person':\n",
    "        user_details = {\n",
    "            'source': 'notion',\n",
    "            'user_id': user['id'],\n",
    "            'role_id': '',\n",
    "            'user_name': user['name'],\n",
    "            'user_email': user['person']['email'],\n",
    "            'user_avatar_url': user['avatar_url']\n",
    "        }\n",
    "\n",
    "    user_list.append(user_details)"
   ]
  },
  {
   "cell_type": "code",
   "execution_count": 6,
   "metadata": {},
   "outputs": [],
   "source": [
    "user_df = pd.DataFrame(user_list)"
   ]
  },
  {
   "cell_type": "code",
   "execution_count": 7,
   "metadata": {},
   "outputs": [
    {
     "data": {
      "text/html": [
       "<div>\n",
       "<style scoped>\n",
       "    .dataframe tbody tr th:only-of-type {\n",
       "        vertical-align: middle;\n",
       "    }\n",
       "\n",
       "    .dataframe tbody tr th {\n",
       "        vertical-align: top;\n",
       "    }\n",
       "\n",
       "    .dataframe thead th {\n",
       "        text-align: right;\n",
       "    }\n",
       "</style>\n",
       "<table border=\"1\" class=\"dataframe\">\n",
       "  <thead>\n",
       "    <tr style=\"text-align: right;\">\n",
       "      <th></th>\n",
       "      <th>source</th>\n",
       "      <th>user_id</th>\n",
       "      <th>role_id</th>\n",
       "      <th>user_name</th>\n",
       "      <th>user_email</th>\n",
       "      <th>user_avatar_url</th>\n",
       "    </tr>\n",
       "  </thead>\n",
       "  <tbody>\n",
       "    <tr>\n",
       "      <th>0</th>\n",
       "      <td>notion</td>\n",
       "      <td>73daee2c-ca1d-4f67-95f9-8fa2b09f7c76</td>\n",
       "      <td></td>\n",
       "      <td>Wenqian Deng</td>\n",
       "      <td>kristywdeng@gmail.com</td>\n",
       "      <td>None</td>\n",
       "    </tr>\n",
       "    <tr>\n",
       "      <th>1</th>\n",
       "      <td>notion</td>\n",
       "      <td>4c629a82-589e-46e2-8d2c-6f1edb7747ae</td>\n",
       "      <td></td>\n",
       "      <td>Susan</td>\n",
       "      <td>markosesusan@gmail.com</td>\n",
       "      <td>https://lh3.googleusercontent.com/a-/ALV-UjXsL...</td>\n",
       "    </tr>\n",
       "    <tr>\n",
       "      <th>2</th>\n",
       "      <td>notion</td>\n",
       "      <td>7a45f33b-03a3-4b5b-bc7c-4d337d67ad7a</td>\n",
       "      <td></td>\n",
       "      <td>EM MYINT</td>\n",
       "      <td>emmyint.1011@gmail.com</td>\n",
       "      <td>None</td>\n",
       "    </tr>\n",
       "    <tr>\n",
       "      <th>3</th>\n",
       "      <td>notion</td>\n",
       "      <td>6a405e7f-6ad0-4932-8f6b-f5bb2980d6b0</td>\n",
       "      <td></td>\n",
       "      <td>Brett Dickinson</td>\n",
       "      <td>brettcd@icloud.com</td>\n",
       "      <td>None</td>\n",
       "    </tr>\n",
       "    <tr>\n",
       "      <th>4</th>\n",
       "      <td>notion</td>\n",
       "      <td>81a566e7-6828-4e3a-9d5a-65e0a627ce28</td>\n",
       "      <td></td>\n",
       "      <td>Micah Fleming</td>\n",
       "      <td>micahrfleming@gmail.com</td>\n",
       "      <td>None</td>\n",
       "    </tr>\n",
       "  </tbody>\n",
       "</table>\n",
       "</div>"
      ],
      "text/plain": [
       "   source                               user_id role_id        user_name  \\\n",
       "0  notion  73daee2c-ca1d-4f67-95f9-8fa2b09f7c76             Wenqian Deng   \n",
       "1  notion  4c629a82-589e-46e2-8d2c-6f1edb7747ae                   Susan    \n",
       "2  notion  7a45f33b-03a3-4b5b-bc7c-4d337d67ad7a                 EM MYINT   \n",
       "3  notion  6a405e7f-6ad0-4932-8f6b-f5bb2980d6b0          Brett Dickinson   \n",
       "4  notion  81a566e7-6828-4e3a-9d5a-65e0a627ce28            Micah Fleming   \n",
       "\n",
       "                user_email                                    user_avatar_url  \n",
       "0    kristywdeng@gmail.com                                               None  \n",
       "1   markosesusan@gmail.com  https://lh3.googleusercontent.com/a-/ALV-UjXsL...  \n",
       "2   emmyint.1011@gmail.com                                               None  \n",
       "3       brettcd@icloud.com                                               None  \n",
       "4  micahrfleming@gmail.com                                               None  "
      ]
     },
     "execution_count": 7,
     "metadata": {},
     "output_type": "execute_result"
    }
   ],
   "source": [
    "user_df.head()"
   ]
  },
  {
   "cell_type": "markdown",
   "metadata": {},
   "source": [
    "## Setup Roles"
   ]
  },
  {
   "cell_type": "code",
   "execution_count": 8,
   "metadata": {},
   "outputs": [],
   "source": [
    "user_roles = {\n",
    "    '73daee2c-ca1d-4f67-95f9-8fa2b09f7c76': 'Design Expert',\n",
    "    '4c629a82-589e-46e2-8d2c-6f1edb7747ae': 'Project Leader',\n",
    "    '7a45f33b-03a3-4b5b-bc7c-4d337d67ad7a': 'Design Expert',\n",
    "    '6a405e7f-6ad0-4932-8f6b-f5bb2980d6b0': 'Data Guy',\n",
    "    '81a566e7-6828-4e3a-9d5a-65e0a627ce28': 'Cybersecurity Expert'\n",
    "}"
   ]
  },
  {
   "cell_type": "code",
   "execution_count": 9,
   "metadata": {},
   "outputs": [
    {
     "data": {
      "text/html": [
       "<div>\n",
       "<style scoped>\n",
       "    .dataframe tbody tr th:only-of-type {\n",
       "        vertical-align: middle;\n",
       "    }\n",
       "\n",
       "    .dataframe tbody tr th {\n",
       "        vertical-align: top;\n",
       "    }\n",
       "\n",
       "    .dataframe thead th {\n",
       "        text-align: right;\n",
       "    }\n",
       "</style>\n",
       "<table border=\"1\" class=\"dataframe\">\n",
       "  <thead>\n",
       "    <tr style=\"text-align: right;\">\n",
       "      <th></th>\n",
       "      <th>user_id</th>\n",
       "      <th>role</th>\n",
       "    </tr>\n",
       "  </thead>\n",
       "  <tbody>\n",
       "    <tr>\n",
       "      <th>0</th>\n",
       "      <td>73daee2c-ca1d-4f67-95f9-8fa2b09f7c76</td>\n",
       "      <td>Design Expert</td>\n",
       "    </tr>\n",
       "    <tr>\n",
       "      <th>1</th>\n",
       "      <td>4c629a82-589e-46e2-8d2c-6f1edb7747ae</td>\n",
       "      <td>Project Leader</td>\n",
       "    </tr>\n",
       "    <tr>\n",
       "      <th>2</th>\n",
       "      <td>7a45f33b-03a3-4b5b-bc7c-4d337d67ad7a</td>\n",
       "      <td>Design Expert</td>\n",
       "    </tr>\n",
       "    <tr>\n",
       "      <th>3</th>\n",
       "      <td>6a405e7f-6ad0-4932-8f6b-f5bb2980d6b0</td>\n",
       "      <td>Data Guy</td>\n",
       "    </tr>\n",
       "    <tr>\n",
       "      <th>4</th>\n",
       "      <td>81a566e7-6828-4e3a-9d5a-65e0a627ce28</td>\n",
       "      <td>Cybersecurity Expert</td>\n",
       "    </tr>\n",
       "  </tbody>\n",
       "</table>\n",
       "</div>"
      ],
      "text/plain": [
       "                                user_id                  role\n",
       "0  73daee2c-ca1d-4f67-95f9-8fa2b09f7c76         Design Expert\n",
       "1  4c629a82-589e-46e2-8d2c-6f1edb7747ae        Project Leader\n",
       "2  7a45f33b-03a3-4b5b-bc7c-4d337d67ad7a         Design Expert\n",
       "3  6a405e7f-6ad0-4932-8f6b-f5bb2980d6b0              Data Guy\n",
       "4  81a566e7-6828-4e3a-9d5a-65e0a627ce28  Cybersecurity Expert"
      ]
     },
     "execution_count": 9,
     "metadata": {},
     "output_type": "execute_result"
    }
   ],
   "source": [
    "role_df = pd.DataFrame(list(user_roles.items()), columns=['user_id', 'role'])\n",
    "\n",
    "role_df.head()\n"
   ]
  },
  {
   "cell_type": "markdown",
   "metadata": {},
   "source": [
    "### Join Users and Roles"
   ]
  },
  {
   "cell_type": "code",
   "execution_count": 10,
   "metadata": {},
   "outputs": [],
   "source": [
    "dim_user = user_df.merge(role_df, how='left', on='user_id')"
   ]
  },
  {
   "cell_type": "code",
   "execution_count": 11,
   "metadata": {},
   "outputs": [
    {
     "data": {
      "text/html": [
       "<div>\n",
       "<style scoped>\n",
       "    .dataframe tbody tr th:only-of-type {\n",
       "        vertical-align: middle;\n",
       "    }\n",
       "\n",
       "    .dataframe tbody tr th {\n",
       "        vertical-align: top;\n",
       "    }\n",
       "\n",
       "    .dataframe thead th {\n",
       "        text-align: right;\n",
       "    }\n",
       "</style>\n",
       "<table border=\"1\" class=\"dataframe\">\n",
       "  <thead>\n",
       "    <tr style=\"text-align: right;\">\n",
       "      <th></th>\n",
       "      <th>source</th>\n",
       "      <th>user_id</th>\n",
       "      <th>role_id</th>\n",
       "      <th>user_name</th>\n",
       "      <th>user_email</th>\n",
       "      <th>user_avatar_url</th>\n",
       "      <th>role</th>\n",
       "    </tr>\n",
       "  </thead>\n",
       "  <tbody>\n",
       "    <tr>\n",
       "      <th>0</th>\n",
       "      <td>notion</td>\n",
       "      <td>73daee2c-ca1d-4f67-95f9-8fa2b09f7c76</td>\n",
       "      <td></td>\n",
       "      <td>Wenqian Deng</td>\n",
       "      <td>kristywdeng@gmail.com</td>\n",
       "      <td>None</td>\n",
       "      <td>Design Expert</td>\n",
       "    </tr>\n",
       "    <tr>\n",
       "      <th>1</th>\n",
       "      <td>notion</td>\n",
       "      <td>4c629a82-589e-46e2-8d2c-6f1edb7747ae</td>\n",
       "      <td></td>\n",
       "      <td>Susan</td>\n",
       "      <td>markosesusan@gmail.com</td>\n",
       "      <td>https://lh3.googleusercontent.com/a-/ALV-UjXsL...</td>\n",
       "      <td>Project Leader</td>\n",
       "    </tr>\n",
       "    <tr>\n",
       "      <th>2</th>\n",
       "      <td>notion</td>\n",
       "      <td>7a45f33b-03a3-4b5b-bc7c-4d337d67ad7a</td>\n",
       "      <td></td>\n",
       "      <td>EM MYINT</td>\n",
       "      <td>emmyint.1011@gmail.com</td>\n",
       "      <td>None</td>\n",
       "      <td>Design Expert</td>\n",
       "    </tr>\n",
       "    <tr>\n",
       "      <th>3</th>\n",
       "      <td>notion</td>\n",
       "      <td>6a405e7f-6ad0-4932-8f6b-f5bb2980d6b0</td>\n",
       "      <td></td>\n",
       "      <td>Brett Dickinson</td>\n",
       "      <td>brettcd@icloud.com</td>\n",
       "      <td>None</td>\n",
       "      <td>Data Guy</td>\n",
       "    </tr>\n",
       "    <tr>\n",
       "      <th>4</th>\n",
       "      <td>notion</td>\n",
       "      <td>81a566e7-6828-4e3a-9d5a-65e0a627ce28</td>\n",
       "      <td></td>\n",
       "      <td>Micah Fleming</td>\n",
       "      <td>micahrfleming@gmail.com</td>\n",
       "      <td>None</td>\n",
       "      <td>Cybersecurity Expert</td>\n",
       "    </tr>\n",
       "  </tbody>\n",
       "</table>\n",
       "</div>"
      ],
      "text/plain": [
       "   source                               user_id role_id        user_name  \\\n",
       "0  notion  73daee2c-ca1d-4f67-95f9-8fa2b09f7c76             Wenqian Deng   \n",
       "1  notion  4c629a82-589e-46e2-8d2c-6f1edb7747ae                   Susan    \n",
       "2  notion  7a45f33b-03a3-4b5b-bc7c-4d337d67ad7a                 EM MYINT   \n",
       "3  notion  6a405e7f-6ad0-4932-8f6b-f5bb2980d6b0          Brett Dickinson   \n",
       "4  notion  81a566e7-6828-4e3a-9d5a-65e0a627ce28            Micah Fleming   \n",
       "\n",
       "                user_email                                    user_avatar_url  \\\n",
       "0    kristywdeng@gmail.com                                               None   \n",
       "1   markosesusan@gmail.com  https://lh3.googleusercontent.com/a-/ALV-UjXsL...   \n",
       "2   emmyint.1011@gmail.com                                               None   \n",
       "3       brettcd@icloud.com                                               None   \n",
       "4  micahrfleming@gmail.com                                               None   \n",
       "\n",
       "                   role  \n",
       "0         Design Expert  \n",
       "1        Project Leader  \n",
       "2         Design Expert  \n",
       "3              Data Guy  \n",
       "4  Cybersecurity Expert  "
      ]
     },
     "execution_count": 11,
     "metadata": {},
     "output_type": "execute_result"
    }
   ],
   "source": [
    "dim_user.head()"
   ]
  },
  {
   "cell_type": "markdown",
   "metadata": {},
   "source": [
    "### Pages\n",
    "\n",
    "Pull down metadata for all pages. Unfortunately the endpoint only pulls in pages that are part of a database, but I may have a workaround. The details pulled in that query will have parent information, in that case being the parent database. But if I can then also pull the metadata of the database, I can maybe get more parent info from that database to get more information."
   ]
  },
  {
   "cell_type": "code",
   "execution_count": 33,
   "metadata": {},
   "outputs": [],
   "source": [
    "search_params = {\"filter\": {\"value\": \"page\", \"property\": \"object\"}}\n",
    "page_url = 'https://api.notion.com/v1/search'\n",
    "page_search_response = requests.post(\n",
    "    page_url, json=search_params, headers=notion_request_headers)\n",
    "\n",
    "page_search = page_search_response.json()\n",
    "\n",
    "pages = page_search['results']\n",
    "\n",
    "# with open('../data/page_search.json', 'w', encoding='utf8') as f:\n",
    "#     json.dump(pages, f, ensure_ascii=False, indent=4)  "
   ]
  },
  {
   "cell_type": "code",
   "execution_count": 34,
   "metadata": {},
   "outputs": [
    {
     "data": {
      "text/plain": [
       "{'object': 'list',\n",
       " 'results': [{'object': 'page',\n",
       "   'id': 'd691c2c9-4fd2-4baf-a6fd-83322633867f',\n",
       "   'created_time': '2023-10-25T00:45:00.000Z',\n",
       "   'last_edited_time': '2023-10-25T02:11:00.000Z',\n",
       "   'created_by': {'object': 'user',\n",
       "    'id': '73daee2c-ca1d-4f67-95f9-8fa2b09f7c76'},\n",
       "   'last_edited_by': {'object': 'user',\n",
       "    'id': '73daee2c-ca1d-4f67-95f9-8fa2b09f7c76'},\n",
       "   'cover': None,\n",
       "   'icon': None,\n",
       "   'parent': {'type': 'page_id',\n",
       "    'page_id': '0fa7ab57-628c-4fd9-b09e-5f0841d7fc54'},\n",
       "   'archived': False,\n",
       "   'properties': {'title': {'id': 'title',\n",
       "     'type': 'title',\n",
       "     'title': [{'type': 'text',\n",
       "       'text': {'content': '10/24/23 Weekly Meeting', 'link': None},\n",
       "       'annotations': {'bold': False,\n",
       "        'italic': False,\n",
       "        'strikethrough': False,\n",
       "        'underline': False,\n",
       "        'code': False,\n",
       "        'color': 'default'},\n",
       "       'plain_text': '10/24/23 Weekly Meeting',\n",
       "       'href': None}]}},\n",
       "   'url': 'https://www.notion.so/10-24-23-Weekly-Meeting-d691c2c94fd24bafa6fd83322633867f',\n",
       "   'public_url': None},\n",
       "  {'object': 'page',\n",
       "   'id': '0fa7ab57-628c-4fd9-b09e-5f0841d7fc54',\n",
       "   'created_time': '2023-10-08T23:26:00.000Z',\n",
       "   'last_edited_time': '2023-10-25T00:45:00.000Z',\n",
       "   'created_by': {'object': 'user',\n",
       "    'id': '4c629a82-589e-46e2-8d2c-6f1edb7747ae'},\n",
       "   'last_edited_by': {'object': 'user',\n",
       "    'id': '73daee2c-ca1d-4f67-95f9-8fa2b09f7c76'},\n",
       "   'cover': None,\n",
       "   'icon': None,\n",
       "   'parent': {'type': 'block_id',\n",
       "    'block_id': 'fb6a8421-dbdf-4d6e-8059-7ff7f8263d62'},\n",
       "   'archived': False,\n",
       "   'properties': {'title': {'id': 'title',\n",
       "     'type': 'title',\n",
       "     'title': [{'type': 'text',\n",
       "       'text': {'content': 'Meeting Notes Team Space', 'link': None},\n",
       "       'annotations': {'bold': False,\n",
       "        'italic': False,\n",
       "        'strikethrough': False,\n",
       "        'underline': False,\n",
       "        'code': False,\n",
       "        'color': 'default'},\n",
       "       'plain_text': 'Meeting Notes Team Space',\n",
       "       'href': None}]}},\n",
       "   'url': 'https://www.notion.so/Meeting-Notes-Team-Space-0fa7ab57628c4fd9b09e5f0841d7fc54',\n",
       "   'public_url': None},\n",
       "  {'object': 'page',\n",
       "   'id': 'ee3521d2-4eb8-4877-8269-f33a3f20b797',\n",
       "   'created_time': '2023-10-20T05:19:00.000Z',\n",
       "   'last_edited_time': '2023-10-20T12:56:00.000Z',\n",
       "   'created_by': {'object': 'user',\n",
       "    'id': '73daee2c-ca1d-4f67-95f9-8fa2b09f7c76'},\n",
       "   'last_edited_by': {'object': 'user',\n",
       "    'id': '4c629a82-589e-46e2-8d2c-6f1edb7747ae'},\n",
       "   'cover': None,\n",
       "   'icon': None,\n",
       "   'parent': {'type': 'page_id',\n",
       "    'page_id': '0fa7ab57-628c-4fd9-b09e-5f0841d7fc54'},\n",
       "   'archived': False,\n",
       "   'properties': {'title': {'id': 'title',\n",
       "     'type': 'title',\n",
       "     'title': [{'type': 'text',\n",
       "       'text': {'content': '10/19/23 Weekly Meeting', 'link': None},\n",
       "       'annotations': {'bold': False,\n",
       "        'italic': False,\n",
       "        'strikethrough': False,\n",
       "        'underline': False,\n",
       "        'code': False,\n",
       "        'color': 'default'},\n",
       "       'plain_text': '10/19/23 Weekly Meeting',\n",
       "       'href': None}]}},\n",
       "   'url': 'https://www.notion.so/10-19-23-Weekly-Meeting-ee3521d24eb848778269f33a3f20b797',\n",
       "   'public_url': None},\n",
       "  {'object': 'page',\n",
       "   'id': 'f99302ab-5823-4b41-91ec-ee19e76c9507',\n",
       "   'created_time': '2023-10-07T14:00:00.000Z',\n",
       "   'last_edited_time': '2023-10-20T11:22:00.000Z',\n",
       "   'created_by': {'object': 'user',\n",
       "    'id': '4c629a82-589e-46e2-8d2c-6f1edb7747ae'},\n",
       "   'last_edited_by': {'object': 'user',\n",
       "    'id': '4c629a82-589e-46e2-8d2c-6f1edb7747ae'},\n",
       "   'cover': None,\n",
       "   'icon': {'type': 'emoji', 'emoji': '🛡️'},\n",
       "   'parent': {'type': 'block_id',\n",
       "    'block_id': 'fb6a8421-dbdf-4d6e-8059-7ff7f8263d62'},\n",
       "   'archived': False,\n",
       "   'properties': {'title': {'id': 'title',\n",
       "     'type': 'title',\n",
       "     'title': [{'type': 'text',\n",
       "       'text': {'content': 'HarmonyHaven Security', 'link': None},\n",
       "       'annotations': {'bold': False,\n",
       "        'italic': False,\n",
       "        'strikethrough': False,\n",
       "        'underline': False,\n",
       "        'code': False,\n",
       "        'color': 'default'},\n",
       "       'plain_text': 'HarmonyHaven Security',\n",
       "       'href': None}]}},\n",
       "   'url': 'https://www.notion.so/HarmonyHaven-Security-f99302ab58234b4191ecee19e76c9507',\n",
       "   'public_url': None},\n",
       "  {'object': 'page',\n",
       "   'id': '70435839-44c4-4b9b-83e5-e32bcc1b7953',\n",
       "   'created_time': '2023-10-04T17:15:00.000Z',\n",
       "   'last_edited_time': '2023-10-20T11:22:00.000Z',\n",
       "   'created_by': {'object': 'user',\n",
       "    'id': '73daee2c-ca1d-4f67-95f9-8fa2b09f7c76'},\n",
       "   'last_edited_by': {'object': 'user',\n",
       "    'id': '4c629a82-589e-46e2-8d2c-6f1edb7747ae'},\n",
       "   'cover': None,\n",
       "   'icon': {'type': 'emoji', 'emoji': '🌺'},\n",
       "   'parent': {'type': 'workspace', 'workspace': True},\n",
       "   'archived': False,\n",
       "   'properties': {'title': {'id': 'title',\n",
       "     'type': 'title',\n",
       "     'title': [{'type': 'text',\n",
       "       'text': {'content': 'HarmonyHaven TeamSpace ', 'link': None},\n",
       "       'annotations': {'bold': False,\n",
       "        'italic': False,\n",
       "        'strikethrough': False,\n",
       "        'underline': False,\n",
       "        'code': False,\n",
       "        'color': 'default'},\n",
       "       'plain_text': 'HarmonyHaven TeamSpace ',\n",
       "       'href': None}]}},\n",
       "   'url': 'https://www.notion.so/HarmonyHaven-TeamSpace-7043583944c44b9b83e5e32bcc1b7953',\n",
       "   'public_url': None},\n",
       "  {'object': 'page',\n",
       "   'id': '168dd073-847b-4c40-86fd-2ce2a38af9ff',\n",
       "   'created_time': '2023-10-09T02:44:00.000Z',\n",
       "   'last_edited_time': '2023-10-20T11:22:00.000Z',\n",
       "   'created_by': {'object': 'user',\n",
       "    'id': '6a405e7f-6ad0-4932-8f6b-f5bb2980d6b0'},\n",
       "   'last_edited_by': {'object': 'user',\n",
       "    'id': '4c629a82-589e-46e2-8d2c-6f1edb7747ae'},\n",
       "   'cover': None,\n",
       "   'icon': {'type': 'emoji', 'emoji': '📔'},\n",
       "   'parent': {'type': 'block_id',\n",
       "    'block_id': 'fb6a8421-dbdf-4d6e-8059-7ff7f8263d62'},\n",
       "   'archived': False,\n",
       "   'properties': {'title': {'id': 'title',\n",
       "     'type': 'title',\n",
       "     'title': [{'type': 'text',\n",
       "       'text': {'content': 'AI Garden Journal', 'link': None},\n",
       "       'annotations': {'bold': False,\n",
       "        'italic': False,\n",
       "        'strikethrough': False,\n",
       "        'underline': False,\n",
       "        'code': False,\n",
       "        'color': 'default'},\n",
       "       'plain_text': 'AI Garden Journal',\n",
       "       'href': None}]}},\n",
       "   'url': 'https://www.notion.so/AI-Garden-Journal-168dd073847b4c4086fd2ce2a38af9ff',\n",
       "   'public_url': None},\n",
       "  {'object': 'page',\n",
       "   'id': 'f682d891-f32b-43e0-9ee0-816708106592',\n",
       "   'created_time': '2023-10-05T01:32:00.000Z',\n",
       "   'last_edited_time': '2023-10-20T11:20:00.000Z',\n",
       "   'created_by': {'object': 'user',\n",
       "    'id': '6a405e7f-6ad0-4932-8f6b-f5bb2980d6b0'},\n",
       "   'last_edited_by': {'object': 'user',\n",
       "    'id': '4c629a82-589e-46e2-8d2c-6f1edb7747ae'},\n",
       "   'cover': None,\n",
       "   'icon': {'type': 'emoji', 'emoji': '🔬'},\n",
       "   'parent': {'type': 'block_id',\n",
       "    'block_id': 'fb6a8421-dbdf-4d6e-8059-7ff7f8263d62'},\n",
       "   'archived': False,\n",
       "   'properties': {'title': {'id': 'title',\n",
       "     'type': 'title',\n",
       "     'title': [{'type': 'text',\n",
       "       'text': {'content': 'Secondary Research', 'link': None},\n",
       "       'annotations': {'bold': False,\n",
       "        'italic': False,\n",
       "        'strikethrough': False,\n",
       "        'underline': False,\n",
       "        'code': False,\n",
       "        'color': 'default'},\n",
       "       'plain_text': 'Secondary Research',\n",
       "       'href': None}]}},\n",
       "   'url': 'https://www.notion.so/Secondary-Research-f682d891f32b43e09ee0816708106592',\n",
       "   'public_url': None},\n",
       "  {'object': 'page',\n",
       "   'id': '97669985-adde-4d8e-8257-f0682b706488',\n",
       "   'created_time': '2023-10-06T01:13:00.000Z',\n",
       "   'last_edited_time': '2023-10-20T11:18:00.000Z',\n",
       "   'created_by': {'object': 'user',\n",
       "    'id': '4c629a82-589e-46e2-8d2c-6f1edb7747ae'},\n",
       "   'last_edited_by': {'object': 'user',\n",
       "    'id': '4c629a82-589e-46e2-8d2c-6f1edb7747ae'},\n",
       "   'cover': None,\n",
       "   'icon': None,\n",
       "   'parent': {'type': 'page_id',\n",
       "    'page_id': 'f682d891-f32b-43e0-9ee0-816708106592'},\n",
       "   'archived': False,\n",
       "   'properties': {'title': {'id': 'title',\n",
       "     'type': 'title',\n",
       "     'title': [{'type': 'text',\n",
       "       'text': {'content': 'Brand Identity Research', 'link': None},\n",
       "       'annotations': {'bold': False,\n",
       "        'italic': False,\n",
       "        'strikethrough': False,\n",
       "        'underline': False,\n",
       "        'code': False,\n",
       "        'color': 'default'},\n",
       "       'plain_text': 'Brand Identity Research',\n",
       "       'href': None}]}},\n",
       "   'url': 'https://www.notion.so/Brand-Identity-Research-97669985adde4d8e8257f0682b706488',\n",
       "   'public_url': None},\n",
       "  {'object': 'page',\n",
       "   'id': 'f1b60866-6355-481a-ad82-685ae0b9bac8',\n",
       "   'created_time': '2023-10-19T22:26:00.000Z',\n",
       "   'last_edited_time': '2023-10-20T11:14:00.000Z',\n",
       "   'created_by': {'object': 'user',\n",
       "    'id': '6a405e7f-6ad0-4932-8f6b-f5bb2980d6b0'},\n",
       "   'last_edited_by': {'object': 'user',\n",
       "    'id': '4c629a82-589e-46e2-8d2c-6f1edb7747ae'},\n",
       "   'cover': None,\n",
       "   'icon': None,\n",
       "   'parent': {'type': 'page_id',\n",
       "    'page_id': '0fa7ab57-628c-4fd9-b09e-5f0841d7fc54'},\n",
       "   'archived': False,\n",
       "   'properties': {'title': {'id': 'title',\n",
       "     'type': 'title',\n",
       "     'title': [{'type': 'text',\n",
       "       'text': {'content': '10/17/23 - Weekly Meeting', 'link': None},\n",
       "       'annotations': {'bold': False,\n",
       "        'italic': False,\n",
       "        'strikethrough': False,\n",
       "        'underline': False,\n",
       "        'code': False,\n",
       "        'color': 'default'},\n",
       "       'plain_text': '10/17/23 - Weekly Meeting',\n",
       "       'href': None}]}},\n",
       "   'url': 'https://www.notion.so/10-17-23-Weekly-Meeting-f1b608666355481aad82685ae0b9bac8',\n",
       "   'public_url': None},\n",
       "  {'object': 'page',\n",
       "   'id': 'fd6b3b97-aecd-4a58-8869-f8445954fb2e',\n",
       "   'created_time': '2023-10-09T04:09:00.000Z',\n",
       "   'last_edited_time': '2023-10-20T05:22:00.000Z',\n",
       "   'created_by': {'object': 'user',\n",
       "    'id': '4c629a82-589e-46e2-8d2c-6f1edb7747ae'},\n",
       "   'last_edited_by': {'object': 'user',\n",
       "    'id': '73daee2c-ca1d-4f67-95f9-8fa2b09f7c76'},\n",
       "   'cover': {'type': 'external',\n",
       "    'external': {'url': 'https://images.unsplash.com/photo-1681949287382-052ea3954a51?ixlib=rb-4.0.3&q=85&fm=jpg&crop=entropy&cs=srgb'}},\n",
       "   'icon': None,\n",
       "   'parent': {'type': 'page_id',\n",
       "    'page_id': '0fa7ab57-628c-4fd9-b09e-5f0841d7fc54'},\n",
       "   'archived': False,\n",
       "   'properties': {'title': {'id': 'title',\n",
       "     'type': 'title',\n",
       "     'title': [{'type': 'text',\n",
       "       'text': {'content': '10/10/23 - Design & Development Meeting#1',\n",
       "        'link': None},\n",
       "       'annotations': {'bold': False,\n",
       "        'italic': False,\n",
       "        'strikethrough': False,\n",
       "        'underline': False,\n",
       "        'code': False,\n",
       "        'color': 'default'},\n",
       "       'plain_text': '10/10/23 - Design & Development Meeting#1',\n",
       "       'href': None}]}},\n",
       "   'url': 'https://www.notion.so/10-10-23-Design-Development-Meeting-1-fd6b3b97aecd4a588869f8445954fb2e',\n",
       "   'public_url': None},\n",
       "  {'object': 'page',\n",
       "   'id': '3b55f455-2084-417b-b0ce-b4d496d776e7',\n",
       "   'created_time': '2023-10-05T22:03:00.000Z',\n",
       "   'last_edited_time': '2023-10-20T05:21:00.000Z',\n",
       "   'created_by': {'object': 'user',\n",
       "    'id': '4c629a82-589e-46e2-8d2c-6f1edb7747ae'},\n",
       "   'last_edited_by': {'object': 'user',\n",
       "    'id': '73daee2c-ca1d-4f67-95f9-8fa2b09f7c76'},\n",
       "   'cover': None,\n",
       "   'icon': {'type': 'emoji', 'emoji': '🌱'},\n",
       "   'parent': {'type': 'page_id',\n",
       "    'page_id': '0fa7ab57-628c-4fd9-b09e-5f0841d7fc54'},\n",
       "   'archived': False,\n",
       "   'properties': {'title': {'id': 'title',\n",
       "     'type': 'title',\n",
       "     'title': [{'type': 'text',\n",
       "       'text': {'content': '10/5/23 - Planning Phase Meeting', 'link': None},\n",
       "       'annotations': {'bold': False,\n",
       "        'italic': False,\n",
       "        'strikethrough': False,\n",
       "        'underline': False,\n",
       "        'code': False,\n",
       "        'color': 'default'},\n",
       "       'plain_text': '10/5/23 - Planning Phase Meeting',\n",
       "       'href': None}]}},\n",
       "   'url': 'https://www.notion.so/10-5-23-Planning-Phase-Meeting-3b55f4552084417bb0ceb4d496d776e7',\n",
       "   'public_url': None},\n",
       "  {'object': 'page',\n",
       "   'id': '276b6640-208d-47e8-85fb-94d4ebff5839',\n",
       "   'created_time': '2023-10-06T18:39:00.000Z',\n",
       "   'last_edited_time': '2023-10-15T23:49:00.000Z',\n",
       "   'created_by': {'object': 'user',\n",
       "    'id': '4c629a82-589e-46e2-8d2c-6f1edb7747ae'},\n",
       "   'last_edited_by': {'object': 'user',\n",
       "    'id': '4c629a82-589e-46e2-8d2c-6f1edb7747ae'},\n",
       "   'cover': None,\n",
       "   'icon': {'type': 'emoji', 'emoji': '🗓️'},\n",
       "   'parent': {'type': 'database_id',\n",
       "    'database_id': '5e7eaeb3-fe4f-4749-8dd4-a7f67eea53d3'},\n",
       "   'archived': False,\n",
       "   'properties': {'Blocking': {'id': 'E%7DZ%3F',\n",
       "     'type': 'relation',\n",
       "     'relation': [{'id': '80d73909-0bbb-40e8-8064-7cf76dce32d6'}],\n",
       "     'has_more': False},\n",
       "    'Eng hours': {'id': 'Kzi%5D', 'type': 'number', 'number': 200},\n",
       "    'Tasks': {'id': 'MR%3E%7D',\n",
       "     'type': 'relation',\n",
       "     'relation': [{'id': '82e97623-bbdb-47c1-8238-48969f0eeed2'},\n",
       "      {'id': '72b6dc04-0879-4e07-a9e4-d09007447b4f'},\n",
       "      {'id': 'aafda592-cc37-4a1e-8f4b-c176ce5a9ca8'},\n",
       "      {'id': 'cc50f5e4-5fdd-4322-98c4-a4e1b0e2c235'},\n",
       "      {'id': 'e9fb39ec-8b25-458f-8891-e10471619d90'},\n",
       "      {'id': 'b667d381-7dd9-48b4-83fc-678f6bfcfcd4'}],\n",
       "     'has_more': False},\n",
       "    'Progress': {'id': 'iDUo',\n",
       "     'type': 'rollup',\n",
       "     'rollup': {'type': 'number',\n",
       "      'number': 0.5,\n",
       "      'function': 'percent_per_group'}},\n",
       "    'Status': {'id': 's%60IM',\n",
       "     'type': 'status',\n",
       "     'status': {'id': 'b61ad109-233c-40b4-88e0-c45f4c1087ec',\n",
       "      'name': 'Done',\n",
       "      'color': 'green'}},\n",
       "    'Priority': {'id': 'yeOF',\n",
       "     'type': 'select',\n",
       "     'select': {'id': '69e24d6f-78d1-4be0-8ad1-ea3754df060d',\n",
       "      'name': 'P0',\n",
       "      'color': 'red'}},\n",
       "    'Blocked by': {'id': '%7C~%5BR',\n",
       "     'type': 'relation',\n",
       "     'relation': [],\n",
       "     'has_more': False},\n",
       "    'Timeline': {'id': '~%60mz',\n",
       "     'type': 'date',\n",
       "     'date': {'start': '2023-09-28', 'end': '2023-10-08', 'time_zone': None}},\n",
       "    '': {'id': 'title',\n",
       "     'type': 'title',\n",
       "     'title': [{'type': 'text',\n",
       "       'text': {'content': 'Planning Phase', 'link': None},\n",
       "       'annotations': {'bold': False,\n",
       "        'italic': False,\n",
       "        'strikethrough': False,\n",
       "        'underline': False,\n",
       "        'code': False,\n",
       "        'color': 'default'},\n",
       "       'plain_text': 'Planning Phase',\n",
       "       'href': None}]}},\n",
       "   'url': 'https://www.notion.so/Planning-Phase-276b6640208d47e885fb94d4ebff5839',\n",
       "   'public_url': None},\n",
       "  {'object': 'page',\n",
       "   'id': '17b5fb74-f3bf-4dea-8603-26b14e449807',\n",
       "   'created_time': '2023-10-05T20:41:00.000Z',\n",
       "   'last_edited_time': '2023-10-10T22:17:00.000Z',\n",
       "   'created_by': {'object': 'user',\n",
       "    'id': '4c629a82-589e-46e2-8d2c-6f1edb7747ae'},\n",
       "   'last_edited_by': {'object': 'user',\n",
       "    'id': '73daee2c-ca1d-4f67-95f9-8fa2b09f7c76'},\n",
       "   'cover': None,\n",
       "   'icon': {'type': 'emoji', 'emoji': '🗳️'},\n",
       "   'parent': {'type': 'block_id',\n",
       "    'block_id': 'fb6a8421-dbdf-4d6e-8059-7ff7f8263d62'},\n",
       "   'archived': False,\n",
       "   'properties': {'title': {'id': 'title',\n",
       "     'type': 'title',\n",
       "     'title': [{'type': 'text',\n",
       "       'text': {'content': 'Survey update - 10/03/23 ', 'link': None},\n",
       "       'annotations': {'bold': False,\n",
       "        'italic': False,\n",
       "        'strikethrough': False,\n",
       "        'underline': False,\n",
       "        'code': False,\n",
       "        'color': 'default'},\n",
       "       'plain_text': 'Survey update - 10/03/23 ',\n",
       "       'href': None}]}},\n",
       "   'url': 'https://www.notion.so/Survey-update-10-03-23-17b5fb74f3bf4dea860326b14e449807',\n",
       "   'public_url': None},\n",
       "  {'object': 'page',\n",
       "   'id': 'a710a520-8d71-430c-bd98-2a9a83bb54f6',\n",
       "   'created_time': '2023-10-05T21:56:00.000Z',\n",
       "   'last_edited_time': '2023-10-08T23:29:00.000Z',\n",
       "   'created_by': {'object': 'user',\n",
       "    'id': '4c629a82-589e-46e2-8d2c-6f1edb7747ae'},\n",
       "   'last_edited_by': {'object': 'user',\n",
       "    'id': '4c629a82-589e-46e2-8d2c-6f1edb7747ae'},\n",
       "   'cover': None,\n",
       "   'icon': {'type': 'emoji', 'emoji': '✅'},\n",
       "   'parent': {'type': 'block_id',\n",
       "    'block_id': 'fb6a8421-dbdf-4d6e-8059-7ff7f8263d62'},\n",
       "   'archived': False,\n",
       "   'properties': {'title': {'id': 'title',\n",
       "     'type': 'title',\n",
       "     'title': [{'type': 'text',\n",
       "       'text': {'content': 'Overview of Tasks ', 'link': None},\n",
       "       'annotations': {'bold': False,\n",
       "        'italic': False,\n",
       "        'strikethrough': False,\n",
       "        'underline': False,\n",
       "        'code': False,\n",
       "        'color': 'default'},\n",
       "       'plain_text': 'Overview of Tasks ',\n",
       "       'href': None}]}},\n",
       "   'url': 'https://www.notion.so/Overview-of-Tasks-a710a5208d71430cbd982a9a83bb54f6',\n",
       "   'public_url': None},\n",
       "  {'object': 'page',\n",
       "   'id': 'edb93178-f5f0-403c-9eba-b99aec713d5f',\n",
       "   'created_time': '2023-10-07T13:13:00.000Z',\n",
       "   'last_edited_time': '2023-10-08T23:26:00.000Z',\n",
       "   'created_by': {'object': 'user',\n",
       "    'id': '4c629a82-589e-46e2-8d2c-6f1edb7747ae'},\n",
       "   'last_edited_by': {'object': 'user',\n",
       "    'id': '4c629a82-589e-46e2-8d2c-6f1edb7747ae'},\n",
       "   'cover': None,\n",
       "   'icon': None,\n",
       "   'parent': {'type': 'page_id',\n",
       "    'page_id': '0fa7ab57-628c-4fd9-b09e-5f0841d7fc54'},\n",
       "   'archived': False,\n",
       "   'properties': {'title': {'id': 'title',\n",
       "     'type': 'title',\n",
       "     'title': [{'type': 'text',\n",
       "       'text': {'content': 'Planning Phase - 2nd Meeting', 'link': None},\n",
       "       'annotations': {'bold': False,\n",
       "        'italic': False,\n",
       "        'strikethrough': False,\n",
       "        'underline': False,\n",
       "        'code': False,\n",
       "        'color': 'default'},\n",
       "       'plain_text': 'Planning Phase - 2nd Meeting',\n",
       "       'href': None}]}},\n",
       "   'url': 'https://www.notion.so/Planning-Phase-2nd-Meeting-edb93178f5f0403c9ebab99aec713d5f',\n",
       "   'public_url': None},\n",
       "  {'object': 'page',\n",
       "   'id': '071ac2f4-c4ba-4ef6-bbe6-fbfe1574681e',\n",
       "   'created_time': '2023-10-05T20:33:00.000Z',\n",
       "   'last_edited_time': '2023-10-08T23:26:00.000Z',\n",
       "   'created_by': {'object': 'user',\n",
       "    'id': '4c629a82-589e-46e2-8d2c-6f1edb7747ae'},\n",
       "   'last_edited_by': {'object': 'user',\n",
       "    'id': '4c629a82-589e-46e2-8d2c-6f1edb7747ae'},\n",
       "   'cover': None,\n",
       "   'icon': {'type': 'emoji', 'emoji': '📝'},\n",
       "   'parent': {'type': 'page_id',\n",
       "    'page_id': '0fa7ab57-628c-4fd9-b09e-5f0841d7fc54'},\n",
       "   'archived': False,\n",
       "   'properties': {'title': {'id': 'title',\n",
       "     'type': 'title',\n",
       "     'title': [{'type': 'text',\n",
       "       'text': {'content': 'Kick-Off Meeting Notes - 10/1/23', 'link': None},\n",
       "       'annotations': {'bold': False,\n",
       "        'italic': False,\n",
       "        'strikethrough': False,\n",
       "        'underline': False,\n",
       "        'code': False,\n",
       "        'color': 'default'},\n",
       "       'plain_text': 'Kick-Off Meeting Notes - 10/1/23',\n",
       "       'href': None}]}},\n",
       "   'url': 'https://www.notion.so/Kick-Off-Meeting-Notes-10-1-23-071ac2f4c4ba4ef6bbe6fbfe1574681e',\n",
       "   'public_url': None},\n",
       "  {'object': 'page',\n",
       "   'id': '845c6795-17ca-4c3e-b350-dd502ad885e3',\n",
       "   'created_time': '2023-10-07T01:52:00.000Z',\n",
       "   'last_edited_time': '2023-10-07T01:52:00.000Z',\n",
       "   'created_by': {'object': 'user',\n",
       "    'id': '4c629a82-589e-46e2-8d2c-6f1edb7747ae'},\n",
       "   'last_edited_by': {'object': 'user',\n",
       "    'id': '4c629a82-589e-46e2-8d2c-6f1edb7747ae'},\n",
       "   'cover': None,\n",
       "   'icon': None,\n",
       "   'parent': {'type': 'database_id',\n",
       "    'database_id': '5e7eaeb3-fe4f-4749-8dd4-a7f67eea53d3'},\n",
       "   'archived': False,\n",
       "   'properties': {'Blocking': {'id': 'E%7DZ%3F',\n",
       "     'type': 'relation',\n",
       "     'relation': [],\n",
       "     'has_more': False},\n",
       "    'Eng hours': {'id': 'Kzi%5D', 'type': 'number', 'number': None},\n",
       "    'Tasks': {'id': 'MR%3E%7D',\n",
       "     'type': 'relation',\n",
       "     'relation': [],\n",
       "     'has_more': False},\n",
       "    'Progress': {'id': 'iDUo',\n",
       "     'type': 'rollup',\n",
       "     'rollup': {'type': 'number',\n",
       "      'number': None,\n",
       "      'function': 'percent_per_group'}},\n",
       "    'Status': {'id': 's%60IM',\n",
       "     'type': 'status',\n",
       "     'status': {'id': 'adc902cf-ba97-43bd-bde6-248626ee0f81',\n",
       "      'name': 'Not started',\n",
       "      'color': 'default'}},\n",
       "    'Priority': {'id': 'yeOF', 'type': 'select', 'select': None},\n",
       "    'Blocked by': {'id': '%7C~%5BR',\n",
       "     'type': 'relation',\n",
       "     'relation': [],\n",
       "     'has_more': False},\n",
       "    'Timeline': {'id': '~%60mz', 'type': 'date', 'date': None},\n",
       "    '': {'id': 'title', 'type': 'title', 'title': []}},\n",
       "   'url': 'https://www.notion.so/845c679517ca4c3eb350dd502ad885e3',\n",
       "   'public_url': None},\n",
       "  {'object': 'page',\n",
       "   'id': '80d73909-0bbb-40e8-8064-7cf76dce32d6',\n",
       "   'created_time': '2023-10-06T18:39:00.000Z',\n",
       "   'last_edited_time': '2023-10-07T01:44:00.000Z',\n",
       "   'created_by': {'object': 'user',\n",
       "    'id': '4c629a82-589e-46e2-8d2c-6f1edb7747ae'},\n",
       "   'last_edited_by': {'object': 'user',\n",
       "    'id': '4c629a82-589e-46e2-8d2c-6f1edb7747ae'},\n",
       "   'cover': None,\n",
       "   'icon': {'type': 'emoji', 'emoji': '🎨'},\n",
       "   'parent': {'type': 'database_id',\n",
       "    'database_id': '5e7eaeb3-fe4f-4749-8dd4-a7f67eea53d3'},\n",
       "   'archived': False,\n",
       "   'properties': {'Blocking': {'id': 'E%7DZ%3F',\n",
       "     'type': 'relation',\n",
       "     'relation': [{'id': '82714da0-753c-441f-9b88-7440176a3d49'}],\n",
       "     'has_more': False},\n",
       "    'Eng hours': {'id': 'Kzi%5D', 'type': 'number', 'number': 250},\n",
       "    'Tasks': {'id': 'MR%3E%7D',\n",
       "     'type': 'relation',\n",
       "     'relation': [{'id': 'b1f65115-7570-4b69-85e6-ed06b1f01eb0'},\n",
       "      {'id': '65d97a95-9f67-4d9e-83c3-c8f9b54bc460'},\n",
       "      {'id': 'a9d8538b-a510-4ca7-b691-c01b4190a2b5'},\n",
       "      {'id': '77534277-056c-4fe6-ab12-cd6831e4bdb3'}],\n",
       "     'has_more': False},\n",
       "    'Progress': {'id': 'iDUo',\n",
       "     'type': 'rollup',\n",
       "     'rollup': {'type': 'number',\n",
       "      'number': 0,\n",
       "      'function': 'percent_per_group'}},\n",
       "    'Status': {'id': 's%60IM',\n",
       "     'type': 'status',\n",
       "     'status': {'id': '5a489069-7823-4d83-96a3-55f87a45b517',\n",
       "      'name': 'In progress',\n",
       "      'color': 'blue'}},\n",
       "    'Priority': {'id': 'yeOF',\n",
       "     'type': 'select',\n",
       "     'select': {'id': '14c03ec2-15ba-4c55-afe0-63da29158737',\n",
       "      'name': 'P1',\n",
       "      'color': 'yellow'}},\n",
       "    'Blocked by': {'id': '%7C~%5BR',\n",
       "     'type': 'relation',\n",
       "     'relation': [{'id': '276b6640-208d-47e8-85fb-94d4ebff5839'}],\n",
       "     'has_more': False},\n",
       "    'Timeline': {'id': '~%60mz',\n",
       "     'type': 'date',\n",
       "     'date': {'start': '2023-10-09', 'end': '2023-10-15', 'time_zone': None}},\n",
       "    '': {'id': 'title',\n",
       "     'type': 'title',\n",
       "     'title': [{'type': 'text',\n",
       "       'text': {'content': 'Design & Development Phase', 'link': None},\n",
       "       'annotations': {'bold': False,\n",
       "        'italic': False,\n",
       "        'strikethrough': False,\n",
       "        'underline': False,\n",
       "        'code': False,\n",
       "        'color': 'default'},\n",
       "       'plain_text': 'Design & Development Phase',\n",
       "       'href': None}]}},\n",
       "   'url': 'https://www.notion.so/Design-Development-Phase-80d739090bbb40e880647cf76dce32d6',\n",
       "   'public_url': None},\n",
       "  {'object': 'page',\n",
       "   'id': '9b368e8e-ea07-40c0-997a-6504b4126435',\n",
       "   'created_time': '2023-10-06T19:49:00.000Z',\n",
       "   'last_edited_time': '2023-10-07T01:35:00.000Z',\n",
       "   'created_by': {'object': 'user',\n",
       "    'id': '4c629a82-589e-46e2-8d2c-6f1edb7747ae'},\n",
       "   'last_edited_by': {'object': 'user',\n",
       "    'id': '4c629a82-589e-46e2-8d2c-6f1edb7747ae'},\n",
       "   'cover': None,\n",
       "   'icon': None,\n",
       "   'parent': {'type': 'page_id',\n",
       "    'page_id': '3b55f455-2084-417b-b0ce-b4d496d776e7'},\n",
       "   'archived': False,\n",
       "   'properties': {'title': {'id': 'title',\n",
       "     'type': 'title',\n",
       "     'title': [{'type': 'text',\n",
       "       'text': {'content': 'Project Management & Communication Tools',\n",
       "        'link': None},\n",
       "       'annotations': {'bold': False,\n",
       "        'italic': False,\n",
       "        'strikethrough': False,\n",
       "        'underline': False,\n",
       "        'code': False,\n",
       "        'color': 'default'},\n",
       "       'plain_text': 'Project Management & Communication Tools',\n",
       "       'href': None}]}},\n",
       "   'url': 'https://www.notion.so/Project-Management-Communication-Tools-9b368e8eea0740c0997a6504b4126435',\n",
       "   'public_url': None},\n",
       "  {'object': 'page',\n",
       "   'id': '82714da0-753c-441f-9b88-7440176a3d49',\n",
       "   'created_time': '2023-10-06T18:39:00.000Z',\n",
       "   'last_edited_time': '2023-10-06T19:34:00.000Z',\n",
       "   'created_by': {'object': 'user',\n",
       "    'id': '4c629a82-589e-46e2-8d2c-6f1edb7747ae'},\n",
       "   'last_edited_by': {'object': 'user',\n",
       "    'id': '4c629a82-589e-46e2-8d2c-6f1edb7747ae'},\n",
       "   'cover': None,\n",
       "   'icon': {'type': 'emoji', 'emoji': '🧪'},\n",
       "   'parent': {'type': 'database_id',\n",
       "    'database_id': '5e7eaeb3-fe4f-4749-8dd4-a7f67eea53d3'},\n",
       "   'archived': False,\n",
       "   'properties': {'Blocking': {'id': 'E%7DZ%3F',\n",
       "     'type': 'relation',\n",
       "     'relation': [{'id': '84f27261-b092-41b2-9015-695349b921e6'}],\n",
       "     'has_more': False},\n",
       "    'Eng hours': {'id': 'Kzi%5D', 'type': 'number', 'number': 300},\n",
       "    'Tasks': {'id': 'MR%3E%7D',\n",
       "     'type': 'relation',\n",
       "     'relation': [{'id': 'b7a57a67-0573-4f1f-b9fd-bdf42c0f7234'},\n",
       "      {'id': '312b4111-6322-474c-a731-a23086e8b4aa'},\n",
       "      {'id': '6b0eda18-3f5b-4258-9d44-6722c5b5d0be'},\n",
       "      {'id': '29c98aba-471a-45d7-9bd4-17b5757eba28'},\n",
       "      {'id': '79c9d676-461d-4880-a075-297dcd95e39e'}],\n",
       "     'has_more': False},\n",
       "    'Progress': {'id': 'iDUo',\n",
       "     'type': 'rollup',\n",
       "     'rollup': {'type': 'number',\n",
       "      'number': 0,\n",
       "      'function': 'percent_per_group'}},\n",
       "    'Status': {'id': 's%60IM',\n",
       "     'type': 'status',\n",
       "     'status': {'id': 'adc902cf-ba97-43bd-bde6-248626ee0f81',\n",
       "      'name': 'Not started',\n",
       "      'color': 'default'}},\n",
       "    'Priority': {'id': 'yeOF',\n",
       "     'type': 'select',\n",
       "     'select': {'id': '14c03ec2-15ba-4c55-afe0-63da29158737',\n",
       "      'name': 'P1',\n",
       "      'color': 'yellow'}},\n",
       "    'Blocked by': {'id': '%7C~%5BR',\n",
       "     'type': 'relation',\n",
       "     'relation': [{'id': '80d73909-0bbb-40e8-8064-7cf76dce32d6'}],\n",
       "     'has_more': False},\n",
       "    'Timeline': {'id': '~%60mz',\n",
       "     'type': 'date',\n",
       "     'date': {'start': '2023-10-16', 'end': '2023-10-22', 'time_zone': None}},\n",
       "    '': {'id': 'title',\n",
       "     'type': 'title',\n",
       "     'title': [{'type': 'text',\n",
       "       'text': {'content': 'Development & Testing Phase', 'link': None},\n",
       "       'annotations': {'bold': False,\n",
       "        'italic': False,\n",
       "        'strikethrough': False,\n",
       "        'underline': False,\n",
       "        'code': False,\n",
       "        'color': 'default'},\n",
       "       'plain_text': 'Development & Testing Phase',\n",
       "       'href': None}]}},\n",
       "   'url': 'https://www.notion.so/Development-Testing-Phase-82714da0753c441f9b887440176a3d49',\n",
       "   'public_url': None},\n",
       "  {'object': 'page',\n",
       "   'id': '84f27261-b092-41b2-9015-695349b921e6',\n",
       "   'created_time': '2023-10-06T18:39:00.000Z',\n",
       "   'last_edited_time': '2023-10-06T19:07:00.000Z',\n",
       "   'created_by': {'object': 'user',\n",
       "    'id': '4c629a82-589e-46e2-8d2c-6f1edb7747ae'},\n",
       "   'last_edited_by': {'object': 'user',\n",
       "    'id': '4c629a82-589e-46e2-8d2c-6f1edb7747ae'},\n",
       "   'cover': None,\n",
       "   'icon': {'type': 'emoji', 'emoji': '🗣️'},\n",
       "   'parent': {'type': 'database_id',\n",
       "    'database_id': '5e7eaeb3-fe4f-4749-8dd4-a7f67eea53d3'},\n",
       "   'archived': False,\n",
       "   'properties': {'Blocking': {'id': 'E%7DZ%3F',\n",
       "     'type': 'relation',\n",
       "     'relation': [],\n",
       "     'has_more': False},\n",
       "    'Eng hours': {'id': 'Kzi%5D', 'type': 'number', 'number': 100},\n",
       "    'Tasks': {'id': 'MR%3E%7D',\n",
       "     'type': 'relation',\n",
       "     'relation': [{'id': 'ecb219f9-2255-4883-837f-ed1ae67bef44'},\n",
       "      {'id': '82f6df5d-e859-40c2-afed-d0255fc74180'},\n",
       "      {'id': '01b09bac-1a4a-4a9a-8639-e7b9025e616f'},\n",
       "      {'id': 'a855a93b-6d97-44d2-a2ef-a56fcd1c9fdd'}],\n",
       "     'has_more': False},\n",
       "    'Progress': {'id': 'iDUo',\n",
       "     'type': 'rollup',\n",
       "     'rollup': {'type': 'number',\n",
       "      'number': 0,\n",
       "      'function': 'percent_per_group'}},\n",
       "    'Status': {'id': 's%60IM',\n",
       "     'type': 'status',\n",
       "     'status': {'id': 'adc902cf-ba97-43bd-bde6-248626ee0f81',\n",
       "      'name': 'Not started',\n",
       "      'color': 'default'}},\n",
       "    'Priority': {'id': 'yeOF',\n",
       "     'type': 'select',\n",
       "     'select': {'id': '14c03ec2-15ba-4c55-afe0-63da29158737',\n",
       "      'name': 'P1',\n",
       "      'color': 'yellow'}},\n",
       "    'Blocked by': {'id': '%7C~%5BR',\n",
       "     'type': 'relation',\n",
       "     'relation': [{'id': '82714da0-753c-441f-9b88-7440176a3d49'}],\n",
       "     'has_more': False},\n",
       "    'Timeline': {'id': '~%60mz',\n",
       "     'type': 'date',\n",
       "     'date': {'start': '2023-10-23', 'end': '2023-10-30', 'time_zone': None}},\n",
       "    '': {'id': 'title',\n",
       "     'type': 'title',\n",
       "     'title': [{'type': 'text',\n",
       "       'text': {'content': 'Final Touches & Demo Preparation', 'link': None},\n",
       "       'annotations': {'bold': False,\n",
       "        'italic': False,\n",
       "        'strikethrough': False,\n",
       "        'underline': False,\n",
       "        'code': False,\n",
       "        'color': 'default'},\n",
       "       'plain_text': 'Final Touches & Demo Preparation',\n",
       "       'href': None}]}},\n",
       "   'url': 'https://www.notion.so/Final-Touches-Demo-Preparation-84f27261b09241b29015695349b921e6',\n",
       "   'public_url': None},\n",
       "  {'object': 'page',\n",
       "   'id': 'b8f0aacc-176d-4432-b3b8-5bd19d892615',\n",
       "   'created_time': '2023-10-05T20:37:00.000Z',\n",
       "   'last_edited_time': '2023-10-06T02:02:00.000Z',\n",
       "   'created_by': {'object': 'user',\n",
       "    'id': '4c629a82-589e-46e2-8d2c-6f1edb7747ae'},\n",
       "   'last_edited_by': {'object': 'user',\n",
       "    'id': '4c629a82-589e-46e2-8d2c-6f1edb7747ae'},\n",
       "   'cover': None,\n",
       "   'icon': {'type': 'emoji', 'emoji': '🗳️'},\n",
       "   'parent': {'type': 'block_id',\n",
       "    'block_id': 'fb6a8421-dbdf-4d6e-8059-7ff7f8263d62'},\n",
       "   'archived': False,\n",
       "   'properties': {'title': {'id': 'title',\n",
       "     'type': 'title',\n",
       "     'title': [{'type': 'text',\n",
       "       'text': {'content': 'Survey Summary - 10/05/23', 'link': None},\n",
       "       'annotations': {'bold': False,\n",
       "        'italic': False,\n",
       "        'strikethrough': False,\n",
       "        'underline': False,\n",
       "        'code': False,\n",
       "        'color': 'default'},\n",
       "       'plain_text': 'Survey Summary - 10/05/23',\n",
       "       'href': None}]}},\n",
       "   'url': 'https://www.notion.so/Survey-Summary-10-05-23-b8f0aacc176d4432b3b85bd19d892615',\n",
       "   'public_url': None}],\n",
       " 'next_cursor': None,\n",
       " 'has_more': False,\n",
       " 'type': 'page_or_database',\n",
       " 'page_or_database': {},\n",
       " 'request_id': 'f26787f9-865d-4d49-b847-4226678b6106'}"
      ]
     },
     "execution_count": 34,
     "metadata": {},
     "output_type": "execute_result"
    }
   ],
   "source": [
    "page_search"
   ]
  },
  {
   "cell_type": "markdown",
   "metadata": {},
   "source": [
    "### Find Page Metadata\n",
    "page_id, title, created_date, created_by, last_edit_date, last_edited_by"
   ]
  },
  {
   "cell_type": "code",
   "execution_count": 10,
   "metadata": {},
   "outputs": [
    {
     "data": {
      "text/plain": [
       "'276b6640-208d-47e8-85fb-94d4ebff5839'"
      ]
     },
     "execution_count": 10,
     "metadata": {},
     "output_type": "execute_result"
    }
   ],
   "source": [
    "#page_id\n",
    "pages[0]['id']"
   ]
  },
  {
   "cell_type": "code",
   "execution_count": 11,
   "metadata": {},
   "outputs": [
    {
     "data": {
      "text/plain": [
       "'Planning Phase'"
      ]
     },
     "execution_count": 11,
     "metadata": {},
     "output_type": "execute_result"
    }
   ],
   "source": [
    "#page_title\n",
    "pages[0]['properties']['']['title'][0]['plain_text']"
   ]
  },
  {
   "cell_type": "code",
   "execution_count": 12,
   "metadata": {},
   "outputs": [
    {
     "name": "stdout",
     "output_type": "stream",
     "text": [
      "HarmonyHaven TeamSpace \n"
     ]
    }
   ],
   "source": [
    "#try and except for different title paths\n",
    "try:\n",
    "    print(pages[1]['properties']['title']['title'][0]['plain_text'])\n",
    "except KeyError:\n",
    "    print(pages[1]['properties']['']['title'][0]['plain_text'])\n"
   ]
  },
  {
   "cell_type": "code",
   "execution_count": 13,
   "metadata": {},
   "outputs": [
    {
     "data": {
      "text/plain": [
       "'2023-10-06T18:39:00.000Z'"
      ]
     },
     "execution_count": 13,
     "metadata": {},
     "output_type": "execute_result"
    }
   ],
   "source": [
    "#created_time\n",
    "pages[0]['created_time']"
   ]
  },
  {
   "cell_type": "code",
   "execution_count": 14,
   "metadata": {},
   "outputs": [
    {
     "data": {
      "text/plain": [
       "'4c629a82-589e-46e2-8d2c-6f1edb7747ae'"
      ]
     },
     "execution_count": 14,
     "metadata": {},
     "output_type": "execute_result"
    }
   ],
   "source": [
    "#created_by\n",
    "pages[0]['created_by']['id']"
   ]
  },
  {
   "cell_type": "code",
   "execution_count": 15,
   "metadata": {},
   "outputs": [
    {
     "data": {
      "text/plain": [
       "'2023-10-15T23:49:00.000Z'"
      ]
     },
     "execution_count": 15,
     "metadata": {},
     "output_type": "execute_result"
    }
   ],
   "source": [
    "#last_edited\n",
    "pages[0]['last_edited_time']"
   ]
  },
  {
   "cell_type": "code",
   "execution_count": 16,
   "metadata": {},
   "outputs": [
    {
     "data": {
      "text/plain": [
       "'4c629a82-589e-46e2-8d2c-6f1edb7747ae'"
      ]
     },
     "execution_count": 16,
     "metadata": {},
     "output_type": "execute_result"
    }
   ],
   "source": [
    "#last_edited_by\n",
    "pages[0]['last_edited_by']['id']"
   ]
  },
  {
   "cell_type": "code",
   "execution_count": 46,
   "metadata": {},
   "outputs": [
    {
     "name": "stdout",
     "output_type": "stream",
     "text": [
      "ee3521d2-4eb8-4877-8269-f33a3f20b797\n",
      "f99302ab-5823-4b41-91ec-ee19e76c9507\n",
      "70435839-44c4-4b9b-83e5-e32bcc1b7953\n",
      "168dd073-847b-4c40-86fd-2ce2a38af9ff\n",
      "f682d891-f32b-43e0-9ee0-816708106592\n",
      "97669985-adde-4d8e-8257-f0682b706488\n",
      "0fa7ab57-628c-4fd9-b09e-5f0841d7fc54\n",
      "f1b60866-6355-481a-ad82-685ae0b9bac8\n",
      "fd6b3b97-aecd-4a58-8869-f8445954fb2e\n",
      "3b55f455-2084-417b-b0ce-b4d496d776e7\n",
      "276b6640-208d-47e8-85fb-94d4ebff5839\n",
      "17b5fb74-f3bf-4dea-8603-26b14e449807\n",
      "a710a520-8d71-430c-bd98-2a9a83bb54f6\n",
      "edb93178-f5f0-403c-9eba-b99aec713d5f\n",
      "071ac2f4-c4ba-4ef6-bbe6-fbfe1574681e\n",
      "845c6795-17ca-4c3e-b350-dd502ad885e3\n",
      "80d73909-0bbb-40e8-8064-7cf76dce32d6\n",
      "9b368e8e-ea07-40c0-997a-6504b4126435\n",
      "82714da0-753c-441f-9b88-7440176a3d49\n",
      "84f27261-b092-41b2-9015-695349b921e6\n",
      "b8f0aacc-176d-4432-b3b8-5bd19d892615\n"
     ]
    }
   ],
   "source": [
    "for page in pages:\n",
    "    print(page['id'])"
   ]
  },
  {
   "cell_type": "code",
   "execution_count": 47,
   "metadata": {},
   "outputs": [],
   "source": [
    "page_response_list = []\n",
    "\n",
    "for page in pages:\n",
    "    page_id = page['id']\n",
    "    blocks_url = f'https://api.notion.com/v1/blocks/{page_id}/children'\n",
    "\n",
    "    blocks_response = requests.get(blocks_url, headers=notion_request_headers)\n",
    "    blocks = blocks_response.json()\n",
    "\n",
    "    page_response_list.append(blocks)\n"
   ]
  },
  {
   "cell_type": "markdown",
   "metadata": {},
   "source": [
    "# Events Data\n",
    "\n",
    "### Breakout key pieces for structure"
   ]
  },
  {
   "cell_type": "code",
   "execution_count": 49,
   "metadata": {},
   "outputs": [
    {
     "data": {
      "text/plain": [
       "{'object': 'block',\n",
       " 'id': 'b2d81975-6683-464a-b05a-ca0d05517c9f',\n",
       " 'parent': {'type': 'page_id',\n",
       "  'page_id': 'ee3521d2-4eb8-4877-8269-f33a3f20b797'},\n",
       " 'created_time': '2023-10-20T05:20:00.000Z',\n",
       " 'last_edited_time': '2023-10-20T05:20:00.000Z',\n",
       " 'created_by': {'object': 'user',\n",
       "  'id': '73daee2c-ca1d-4f67-95f9-8fa2b09f7c76'},\n",
       " 'last_edited_by': {'object': 'user',\n",
       "  'id': '73daee2c-ca1d-4f67-95f9-8fa2b09f7c76'},\n",
       " 'has_children': False,\n",
       " 'archived': False,\n",
       " 'type': 'heading_2',\n",
       " 'heading_2': {'rich_text': [{'type': 'text',\n",
       "    'text': {'content': 'Th, Oct 19, 2023 | ', 'link': None},\n",
       "    'annotations': {'bold': False,\n",
       "     'italic': False,\n",
       "     'strikethrough': False,\n",
       "     'underline': False,\n",
       "     'code': False,\n",
       "     'color': 'default'},\n",
       "    'plain_text': 'Th, Oct 19, 2023 | ',\n",
       "    'href': None},\n",
       "   {'type': 'text',\n",
       "    'text': {'content': 'Weekly Meetings - HarmonyHaven Hackathon',\n",
       "     'link': {'url': 'https://www.google.com/calendar/event?eid=XzYwcTMwYzFnNjBvMzBlMWk2MG80YWMxZzYwcmo4Z3BsODhyajJjMWg4NHMzNGg5ZzYwczMwYzFnNjBvMzBjMWc4cDFrY2doaTg4b2ppY2k2OHAwazhlOWc2NG8zMGMxZzYwbzMwYzFnNjBvMzBjMWc2MG8zMmMxZzYwbzMwYzFnNzExM2ljOWw4Y3IzMmRhNDYxMjMwZ2hrOGQwajBnaGs2c3MzY2UyMzZvcjQ0aDI2NnQyMF8yMDIzMTAxOFQwMDAwMDBaIG1hcmtvc2VzdXNhbkBt'}},\n",
       "    'annotations': {'bold': False,\n",
       "     'italic': False,\n",
       "     'strikethrough': False,\n",
       "     'underline': False,\n",
       "     'code': False,\n",
       "     'color': 'default'},\n",
       "    'plain_text': 'Weekly Meetings - HarmonyHaven Hackathon',\n",
       "    'href': 'https://www.google.com/calendar/event?eid=XzYwcTMwYzFnNjBvMzBlMWk2MG80YWMxZzYwcmo4Z3BsODhyajJjMWg4NHMzNGg5ZzYwczMwYzFnNjBvMzBjMWc4cDFrY2doaTg4b2ppY2k2OHAwazhlOWc2NG8zMGMxZzYwbzMwYzFnNjBvMzBjMWc2MG8zMmMxZzYwbzMwYzFnNzExM2ljOWw4Y3IzMmRhNDYxMjMwZ2hrOGQwajBnaGs2c3MzY2UyMzZvcjQ0aDI2NnQyMF8yMDIzMTAxOFQwMDAwMDBaIG1hcmtvc2VzdXNhbkBt'}],\n",
       "  'is_toggleable': False,\n",
       "  'color': 'default'}}"
      ]
     },
     "execution_count": 49,
     "metadata": {},
     "output_type": "execute_result"
    }
   ],
   "source": [
    "page_response_list[0]['results'][0]"
   ]
  },
  {
   "cell_type": "code",
   "execution_count": 22,
   "metadata": {},
   "outputs": [
    {
     "data": {
      "text/plain": [
       "'cd4e4b85-d6d4-4668-bad5-de938eab7cd2'"
      ]
     },
     "execution_count": 22,
     "metadata": {},
     "output_type": "execute_result"
    }
   ],
   "source": [
    "#block id\n",
    "page_response_list[4]['results'][5]['id']"
   ]
  },
  {
   "cell_type": "code",
   "execution_count": 23,
   "metadata": {},
   "outputs": [
    {
     "name": "stdout",
     "output_type": "stream",
     "text": [
      "0fa7ab57-628c-4fd9-b09e-5f0841d7fc54\n"
     ]
    }
   ],
   "source": [
    "#page id\n",
    "if page_response_list[4]['results'][5]['parent']['type'] == 'page_id': #not sure if I need this, haven't seen other page IDs\n",
    "    print(page_response_list[4]['results'][5]['parent']['page_id'])"
   ]
  },
  {
   "cell_type": "code",
   "execution_count": 24,
   "metadata": {},
   "outputs": [
    {
     "data": {
      "text/plain": [
       "'2023-10-11T14:21:00.000Z'"
      ]
     },
     "execution_count": 24,
     "metadata": {},
     "output_type": "execute_result"
    }
   ],
   "source": [
    "#created date\n",
    "page_response_list[4]['results'][5]['created_time']"
   ]
  },
  {
   "cell_type": "code",
   "execution_count": 25,
   "metadata": {},
   "outputs": [
    {
     "data": {
      "text/plain": [
       "'81a566e7-6828-4e3a-9d5a-65e0a627ce28'"
      ]
     },
     "execution_count": 25,
     "metadata": {},
     "output_type": "execute_result"
    }
   ],
   "source": [
    "#creating user\n",
    "page_response_list[4]['results'][5]['created_by']['id'] #also have a object/user type, not sure if I need."
   ]
  },
  {
   "cell_type": "code",
   "execution_count": 26,
   "metadata": {},
   "outputs": [
    {
     "data": {
      "text/plain": [
       "'2023-10-11T14:21:00.000Z'"
      ]
     },
     "execution_count": 26,
     "metadata": {},
     "output_type": "execute_result"
    }
   ],
   "source": [
    "#last edited time\n",
    "page_response_list[4]['results'][5]['last_edited_time']"
   ]
  },
  {
   "cell_type": "code",
   "execution_count": 27,
   "metadata": {},
   "outputs": [
    {
     "data": {
      "text/plain": [
       "'81a566e7-6828-4e3a-9d5a-65e0a627ce28'"
      ]
     },
     "execution_count": 27,
     "metadata": {},
     "output_type": "execute_result"
    }
   ],
   "source": [
    "#last edited by\n",
    "page_response_list[4]['results'][5]['last_edited_by']['id'] #also have a object/user type, not sure if I need."
   ]
  },
  {
   "cell_type": "code",
   "execution_count": 28,
   "metadata": {},
   "outputs": [
    {
     "data": {
      "text/plain": [
       "'paragraph'"
      ]
     },
     "execution_count": 28,
     "metadata": {},
     "output_type": "execute_result"
    }
   ],
   "source": [
    "#type\n",
    "type = page_response_list[4]['results'][5]['type']\n",
    "type"
   ]
  },
  {
   "cell_type": "code",
   "execution_count": 29,
   "metadata": {},
   "outputs": [
    {
     "data": {
      "text/plain": [
       "{'rich_text': [{'type': 'text',\n",
       "   'text': {'content': 'HarmonyHaven Meeting Notes', 'link': None},\n",
       "   'annotations': {'bold': False,\n",
       "    'italic': False,\n",
       "    'strikethrough': False,\n",
       "    'underline': False,\n",
       "    'code': False,\n",
       "    'color': 'default'},\n",
       "   'plain_text': 'HarmonyHaven Meeting Notes',\n",
       "   'href': None}],\n",
       " 'color': 'default'}"
      ]
     },
     "execution_count": 29,
     "metadata": {},
     "output_type": "execute_result"
    }
   ],
   "source": [
    "#contents\n",
    "page_response_list[4]['results'][5][type]"
   ]
  },
  {
   "cell_type": "markdown",
   "metadata": {},
   "source": [
    "### Create A Dataframe of Responses"
   ]
  },
  {
   "cell_type": "code",
   "execution_count": 90,
   "metadata": {},
   "outputs": [],
   "source": [
    "#drill down to the page types and save to list\n",
    "block_content_list = []\n",
    "\n",
    "i=0\n",
    "for page_response in page_response_list[19:]:\n",
    "    k=0\n",
    "    for block in page_response['results']:\n",
    "        try:\n",
    "            type = block['type']\n",
    "            contents = block[type]\n",
    "        except IndexError:\n",
    "            type = ''\n",
    "            contents = ''\n",
    "        finally:\n",
    "            if block['parent']['type'] == 'page_id': #not sure if I need this, haven't seen other page IDs\n",
    "                page_id = block['parent']['page_id']\n",
    "            block_data = {\n",
    "                'block_id': block['id'],\n",
    "                'page_id': page_id,\n",
    "                'created_date': block['created_time'],\n",
    "                'created_by': block['created_by']['id'],\n",
    "                'last_edit_date': block['last_edited_time'],\n",
    "                'last_edit_by': block['last_edited_by']['id'],\n",
    "                'block_type': block['type'],\n",
    "                'block_type': type,\n",
    "                'block_contents': contents\n",
    "                }\n",
    "            \n",
    "            #append to list\n",
    "            block_content_list.append(block_data)\n",
    "        k+=1\n",
    "    i+=1"
   ]
  },
  {
   "cell_type": "code",
   "execution_count": 95,
   "metadata": {},
   "outputs": [
    {
     "data": {
      "text/plain": [
       "{'rich_text': [{'type': 'text',\n",
       "   'text': {'content': 'In conclusion, the survey results highlight the importance of shared virtual spaces, group task management, and real-time collaboration activities in a virtual team engagement tool. These features can enhance team interactions, facilitate task management, and promote collaboration.\\n',\n",
       "    'link': None},\n",
       "   'annotations': {'bold': False,\n",
       "    'italic': False,\n",
       "    'strikethrough': False,\n",
       "    'underline': False,\n",
       "    'code': False,\n",
       "    'color': 'default'},\n",
       "   'plain_text': 'In conclusion, the survey results highlight the importance of shared virtual spaces, group task management, and real-time collaboration activities in a virtual team engagement tool. These features can enhance team interactions, facilitate task management, and promote collaboration.\\n',\n",
       "   'href': None}],\n",
       " 'color': 'default'}"
      ]
     },
     "execution_count": 95,
     "metadata": {},
     "output_type": "execute_result"
    }
   ],
   "source": [
    "block_df = pd.DataFrame(block_content_list)\n",
    "\n",
    "block_df.iloc[3,7]"
   ]
  },
  {
   "cell_type": "code",
   "execution_count": 32,
   "metadata": {},
   "outputs": [
    {
     "data": {
      "text/plain": [
       "block_type\n",
       "bulleted_list_item    98\n",
       "paragraph             91\n",
       "numbered_list_item    29\n",
       "divider               19\n",
       "heading_2             16\n",
       "to_do                 14\n",
       "callout               10\n",
       "child_page             8\n",
       "table                  4\n",
       "column_list            3\n",
       "heading_1              3\n",
       "quote                  3\n",
       "image                  3\n",
       "Name: count, dtype: int64"
      ]
     },
     "execution_count": 32,
     "metadata": {},
     "output_type": "execute_result"
    }
   ],
   "source": [
    "block_df['block_type'].value_counts()"
   ]
  },
  {
   "cell_type": "markdown",
   "metadata": {},
   "source": [
    "### Drop types that aren't valuable to me"
   ]
  },
  {
   "cell_type": "code",
   "execution_count": 33,
   "metadata": {},
   "outputs": [
    {
     "data": {
      "text/plain": [
       "{'table_width': 3, 'has_column_header': True, 'has_row_header': False}"
      ]
     },
     "execution_count": 33,
     "metadata": {},
     "output_type": "execute_result"
    }
   ],
   "source": [
    "#view table contents --> drop. Don't see the value here.\n",
    "block_df[block_df['block_type'] == 'table'].iloc[0,7]"
   ]
  },
  {
   "cell_type": "code",
   "execution_count": 34,
   "metadata": {},
   "outputs": [
    {
     "data": {
      "text/plain": [
       "{'title': 'AI Garden Journal'}"
      ]
     },
     "execution_count": 34,
     "metadata": {},
     "output_type": "execute_result"
    }
   ],
   "source": [
    "#view child_page contents --> keep\n",
    "block_df[block_df['block_type'] == 'child_page'].iloc[0,7]"
   ]
  },
  {
   "cell_type": "code",
   "execution_count": 35,
   "metadata": {},
   "outputs": [
    {
     "data": {
      "text/plain": [
       "{}"
      ]
     },
     "execution_count": 35,
     "metadata": {},
     "output_type": "execute_result"
    }
   ],
   "source": [
    "#view divider contents --> drop\n",
    "block_df[block_df['block_type'] == 'divider'].iloc[0,7]"
   ]
  },
  {
   "cell_type": "code",
   "execution_count": 36,
   "metadata": {},
   "outputs": [
    {
     "data": {
      "text/plain": [
       "{'rich_text': [{'type': 'text',\n",
       "   'text': {'content': 'Example questions to answer: ', 'link': None},\n",
       "   'annotations': {'bold': True,\n",
       "    'italic': False,\n",
       "    'strikethrough': False,\n",
       "    'underline': False,\n",
       "    'code': False,\n",
       "    'color': 'gray'},\n",
       "   'plain_text': 'Example questions to answer: ',\n",
       "   'href': None},\n",
       "  {'type': 'text',\n",
       "   'text': {'content': '\\nWhat problem are we solving? For whom? When do they experience this issue?\\nWhat data, research and feedback do we have that explains this problem? \\nWhich customers are we working with, or hearing from, to better understand this problem? \\nWhy is solving this problem urgent? Why is it important? ',\n",
       "    'link': None},\n",
       "   'annotations': {'bold': False,\n",
       "    'italic': False,\n",
       "    'strikethrough': False,\n",
       "    'underline': False,\n",
       "    'code': False,\n",
       "    'color': 'gray'},\n",
       "   'plain_text': '\\nWhat problem are we solving? For whom? When do they experience this issue?\\nWhat data, research and feedback do we have that explains this problem? \\nWhich customers are we working with, or hearing from, to better understand this problem? \\nWhy is solving this problem urgent? Why is it important? ',\n",
       "   'href': None}],\n",
       " 'color': 'default'}"
      ]
     },
     "execution_count": 36,
     "metadata": {},
     "output_type": "execute_result"
    }
   ],
   "source": [
    "#view quote contents --> keep\n",
    "block_df[block_df['block_type'] == 'quote'].iloc[0,7]"
   ]
  },
  {
   "cell_type": "code",
   "execution_count": 37,
   "metadata": {},
   "outputs": [
    {
     "data": {
      "text/plain": [
       "{}"
      ]
     },
     "execution_count": 37,
     "metadata": {},
     "output_type": "execute_result"
    }
   ],
   "source": [
    "#view column_list contents --> drop\n",
    "block_df[block_df['block_type'] == 'column_list'].iloc[0,7]"
   ]
  },
  {
   "cell_type": "code",
   "execution_count": 38,
   "metadata": {},
   "outputs": [
    {
     "data": {
      "text/plain": [
       "{'rich_text': [{'type': 'text',\n",
       "   'text': {'content': 'Confirm the frequency of Team Meetings ',\n",
       "    'link': None},\n",
       "   'annotations': {'bold': False,\n",
       "    'italic': False,\n",
       "    'strikethrough': False,\n",
       "    'underline': False,\n",
       "    'code': False,\n",
       "    'color': 'default'},\n",
       "   'plain_text': 'Confirm the frequency of Team Meetings ',\n",
       "   'href': None}],\n",
       " 'checked': True,\n",
       " 'color': 'default'}"
      ]
     },
     "execution_count": 38,
     "metadata": {},
     "output_type": "execute_result"
    }
   ],
   "source": [
    "#view to_do contents --> keep\n",
    "block_df[block_df['block_type'] == 'to_do'].iloc[0,7]"
   ]
  },
  {
   "cell_type": "code",
   "execution_count": 39,
   "metadata": {},
   "outputs": [],
   "source": [
    "#drop the columns we don't need\n",
    "block_df = block_df[~block_df['block_type'].isin(['table','divider','column_list'])].reset_index(drop=True)"
   ]
  },
  {
   "cell_type": "code",
   "execution_count": 40,
   "metadata": {},
   "outputs": [
    {
     "data": {
      "text/plain": [
       "{'type': 'text',\n",
       " 'text': {'content': 'Notion Tip:', 'link': None},\n",
       " 'annotations': {'bold': True,\n",
       "  'italic': False,\n",
       "  'strikethrough': False,\n",
       "  'underline': False,\n",
       "  'code': False,\n",
       "  'color': 'default'},\n",
       " 'plain_text': 'Notion Tip:',\n",
       " 'href': None}"
      ]
     },
     "execution_count": 40,
     "metadata": {},
     "output_type": "execute_result"
    }
   ],
   "source": [
    "block_df.iloc[0,7]['rich_text'][0]"
   ]
  },
  {
   "cell_type": "markdown",
   "metadata": {},
   "source": [
    "Noticing when there are different annotations in the same block it splits them out by annotation. So I'll probably want to set it up to loop through the records in each content and combine them so it's one text field."
   ]
  },
  {
   "cell_type": "markdown",
   "metadata": {},
   "source": [
    "### Drill Into Example with Multiple Seperate Annotations"
   ]
  },
  {
   "cell_type": "code",
   "execution_count": 41,
   "metadata": {},
   "outputs": [],
   "source": [
    "test_block = block_df[block_df['block_type'] == 'quote'].iloc[0,7]['rich_text']\n",
    "\n",
    "storage_list = []\n",
    "for i in test_block:\n",
    "    content = i['plain_text']\n",
    "    storage_list.append(content)"
   ]
  },
  {
   "cell_type": "code",
   "execution_count": 42,
   "metadata": {},
   "outputs": [
    {
     "data": {
      "text/plain": [
       "'Example questions to answer: \\nWhat problem are we solving? For whom? When do they experience this issue?\\nWhat data, research and feedback do we have that explains this problem? \\nWhich customers are we working with, or hearing from, to better understand this problem? \\nWhy is solving this problem urgent? Why is it important? '"
      ]
     },
     "execution_count": 42,
     "metadata": {},
     "output_type": "execute_result"
    }
   ],
   "source": [
    "''.join(storage_list)"
   ]
  },
  {
   "cell_type": "markdown",
   "metadata": {},
   "source": [
    "# Putting Things All Together\n",
    "\n",
    "If I can use these steps I can pull together metadata for each page and save the contents as a document. \n",
    "\n",
    "I see value in tracking the details I've already put together, but also in focusing on document summarization.\n",
    "\n",
    "**Metadata Fields**\n",
    "- page_id\n",
    "- page_title\n",
    "- created_date\n",
    "- created_by\n",
    "- last_edit_date\n",
    "- last_edited_by\n",
    "\n",
    "May also need to research running into limits, and batching in a way that lets me get every block."
   ]
  },
  {
   "cell_type": "code",
   "execution_count": 131,
   "metadata": {},
   "outputs": [
    {
     "data": {
      "text/plain": [
       "{'object': 'page',\n",
       " 'id': 'f682d891-f32b-43e0-9ee0-816708106592',\n",
       " 'created_time': '2023-10-05T01:32:00.000Z',\n",
       " 'last_edited_time': '2023-10-10T22:17:00.000Z',\n",
       " 'created_by': {'object': 'user',\n",
       "  'id': '6a405e7f-6ad0-4932-8f6b-f5bb2980d6b0'},\n",
       " 'last_edited_by': {'object': 'user',\n",
       "  'id': '73daee2c-ca1d-4f67-95f9-8fa2b09f7c76'},\n",
       " 'cover': None,\n",
       " 'icon': {'type': 'emoji', 'emoji': '🔬'},\n",
       " 'parent': {'type': 'block_id',\n",
       "  'block_id': 'fb6a8421-dbdf-4d6e-8059-7ff7f8263d62'},\n",
       " 'archived': False,\n",
       " 'properties': {'title': {'id': 'title',\n",
       "   'type': 'title',\n",
       "   'title': [{'type': 'text',\n",
       "     'text': {'content': 'Secondary Research', 'link': None},\n",
       "     'annotations': {'bold': False,\n",
       "      'italic': False,\n",
       "      'strikethrough': False,\n",
       "      'underline': False,\n",
       "      'code': False,\n",
       "      'color': 'default'},\n",
       "     'plain_text': 'Secondary Research',\n",
       "     'href': None}]}},\n",
       " 'url': 'https://www.notion.so/Secondary-Research-f682d891f32b43e09ee0816708106592',\n",
       " 'public_url': None}"
      ]
     },
     "execution_count": 131,
     "metadata": {},
     "output_type": "execute_result"
    }
   ],
   "source": [
    "pages[6]"
   ]
  },
  {
   "cell_type": "code",
   "execution_count": 13,
   "metadata": {},
   "outputs": [],
   "source": [
    "#########################\n",
    "#reviewed the different responses and found some errors, ended up excluding databases. I want to use this mainly for page summarization. So those database entries will be less important in this context.\n",
    "#may try to integrate it at somepoint\n",
    "#########################\n",
    "\n",
    "structured_document_list = []\n",
    "\n",
    "for page in pages:\n",
    "    #skip if database\n",
    "    if page['parent']['type'] == 'database_id':\n",
    "        continue\n",
    "\n",
    "    #save metadata\n",
    "    page_id = page['id']\n",
    "    try: #titles come in different formats, so hopefully this will make it work!\n",
    "        page_title = page['properties']['title']['title'][0]['plain_text']\n",
    "    except KeyError:\n",
    "        page_title = page['properties']['']['title'][0]['plain_text']\n",
    "\n",
    "    page_created_date = page['created_time']\n",
    "    page_created_by_id = page['created_by']['id']\n",
    "    page_last_update_date = page['last_edited_time']\n",
    "    page_last_update_by_id = page['last_edited_by']['id']\n",
    "\n",
    "    #pull blocks from each page\n",
    "    blocks_url = f'https://api.notion.com/v1/blocks/{page_id}/children'\n",
    "    blocks_response = requests.get(blocks_url, headers=notion_request_headers)\n",
    "    blocks = blocks_response.json()\n",
    "\n",
    "    #drill into block content, add to list, and combine\n",
    "    block_content_list = []\n",
    "\n",
    "    n = 1\n",
    "    previous_block = ''\n",
    "    for block in blocks['results']:\n",
    "        #save block type and content\n",
    "        try:\n",
    "            block_type = block['type']\n",
    "        except IndexError:\n",
    "            block_type = ''\n",
    "\n",
    "        #skip if block_type one of the types we won't use\n",
    "        if block_type in ['table','divider','column_list','child_page','image','']:\n",
    "            continue\n",
    "\n",
    "        #loop through annotations within block content of the types we want\n",
    "        block_annotation_list = []\n",
    "        for i in block[block_type]['rich_text']:\n",
    "            try:\n",
    "                content_item = i['plain_text']\n",
    "                block_annotation_list.append(content_item)\n",
    "            except KeyError:\n",
    "                pass\n",
    "        #add bullets and numbers if applicable\n",
    "        if block_type == 'bulleted_list_item':    \n",
    "            content = '\\n-'+''.join(block_annotation_list) #combine seperated annotations\n",
    "            previous_block = block_type #save off previous block to increment number in ordered fashion\n",
    "        elif block_type == 'numbered_list_item':\n",
    "            if previous_block == 'numbered_list_item':\n",
    "                content = '\\n'+str(n)+'.'+''.join(block_annotation_list) #combine seperated annotations\n",
    "                previous_block = block_type #save off previous block to increment number in ordered fashion\n",
    "                n += 1 #increment number\n",
    "            else:\n",
    "                n=1 #set n back to 1\n",
    "                content = '\\n'+str(n)+'.'+''.join(block_annotation_list) #combine seperated annotations\n",
    "                previous_block = block_type #save off previous block to increment number in ordered fashion\n",
    "                n += 1 #increment number\n",
    "        else:\n",
    "            content = '\\n'+''.join(block_annotation_list) #combine seperated annotations\n",
    "            previous_block = block_type #save off previous block to increment number in ordered fashion\n",
    "\n",
    "        block_content_list.append(content) #append the combined items to list\n",
    "        page_content = {\n",
    "            'page_id': page_id,\n",
    "            'page_title': page_title,\n",
    "            'page_created_date': page_created_date,\n",
    "            'page_created_by_id': page_created_by_id,\n",
    "            'page_last_update_date': page_last_update_date,\n",
    "            'page_last_update_by_id': page_last_update_by_id,\n",
    "            'content': ''.join(block_content_list) #save content as one big combined block\n",
    "        }\n",
    "\n",
    "    structured_document_list.append(page_content)\n"
   ]
  },
  {
   "cell_type": "code",
   "execution_count": 32,
   "metadata": {},
   "outputs": [
    {
     "name": "stdout",
     "output_type": "stream",
     "text": [
      "Title: 10/24/23 Weekly Meeting\n",
      "Created On: 2023-10-25T00:45:00.000Z\n",
      "\n",
      "\n",
      "Tues, 10/24/23 | Weekly Meetings - HarmonyHaven Hackathon\n",
      "Attendees: Emma Myint Kristy Deng Micah Fleming Brett Dickinson \n",
      "\n",
      "Vowel Recording 1: https://workspace-5b7pmm1.vowel.com/meeting/bNpYLTyGdoz2d3qr\n",
      "Vowel Recording 2: https://workspace-qxm44vs.vowel.com/meeting/CVaD9RGEggeZgeDb\n",
      "\n",
      "Tasks to Highlight\n",
      "-Onboarding/Integration\n",
      "-AI Journal\n",
      "-Dashboard\n",
      "Goals\n",
      "-Finalize branding\n",
      "-Finalize user flows\n",
      "-Finalize which flows will have the integrated chat bot\n",
      "-Delegate tasks for writing copy\n",
      "-Review Micah's datapoints and research\n",
      "Discussion Items\n",
      "-Discuss integration of AI in chatbot and dashboard\n",
      "-Integration of harmonyhaven into existing data management ecosystem (e.g. Microsoft suite, Google workspace)\n",
      "-DESIGN SYSTEM CHECKLIST (example: https://atlassian.design/brand/mission )\n",
      "-For content writing inspo: https://mobbin.com/browse/ios/apps\n",
      "Action Items\n",
      "Micah: start the slides and input his research to reflect the project, reach out to friends about Ai software integration\n",
      "Brett: work on copy and brand identity with Susan, prototype of journal (if time allows)\n",
      "Susan: Start on the presentation, look out for a message from us to start writing content\n",
      "Emma and Kristy: finish user flow map, design high-fidelity mockup screens, and prototype\n"
     ]
    }
   ],
   "source": [
    "filepath = './../data/'\n",
    "\n",
    "for doc in structured_document_list[0:1]:  \n",
    "    title = doc['page_title']\n",
    "    filename = doc['page_title'].replace(\" \",\"\").replace(\"&\",\"and\").replace(\"#\",\"\") #remove chars that don't work in titles\n",
    "    created_date = doc['page_created_date']\n",
    "    content = doc['content']\n",
    "    text_file = f'Title: {title}\\nCreated On: {created_date}\\n\\n{content}'\n",
    "    print(text_file)"
   ]
  },
  {
   "cell_type": "code",
   "execution_count": 16,
   "metadata": {},
   "outputs": [],
   "source": [
    "test_txt = structured_document_list[0]['content']"
   ]
  },
  {
   "cell_type": "code",
   "execution_count": 17,
   "metadata": {},
   "outputs": [],
   "source": [
    "#test writing to txt file\n",
    "with open('../data/dev/txt_test.txt', 'w') as f:\n",
    "    f.write(test_txt)"
   ]
  },
  {
   "cell_type": "markdown",
   "metadata": {},
   "source": [
    "### Build as Dataframe\n",
    "\n",
    "We can then join in some of our other data, like user name and role."
   ]
  },
  {
   "cell_type": "code",
   "execution_count": 52,
   "metadata": {},
   "outputs": [
    {
     "data": {
      "text/html": [
       "<div>\n",
       "<style scoped>\n",
       "    .dataframe tbody tr th:only-of-type {\n",
       "        vertical-align: middle;\n",
       "    }\n",
       "\n",
       "    .dataframe tbody tr th {\n",
       "        vertical-align: top;\n",
       "    }\n",
       "\n",
       "    .dataframe thead th {\n",
       "        text-align: right;\n",
       "    }\n",
       "</style>\n",
       "<table border=\"1\" class=\"dataframe\">\n",
       "  <thead>\n",
       "    <tr style=\"text-align: right;\">\n",
       "      <th></th>\n",
       "      <th>page_id</th>\n",
       "      <th>page_title</th>\n",
       "      <th>page_created_date</th>\n",
       "      <th>page_created_by_id</th>\n",
       "      <th>page_last_update_date</th>\n",
       "      <th>page_last_update_by_id</th>\n",
       "      <th>content</th>\n",
       "    </tr>\n",
       "  </thead>\n",
       "  <tbody>\n",
       "    <tr>\n",
       "      <th>0</th>\n",
       "      <td>ee3521d2-4eb8-4877-8269-f33a3f20b797</td>\n",
       "      <td>10/19/23 Weekly Meeting</td>\n",
       "      <td>2023-10-20T05:19:00.000Z</td>\n",
       "      <td>73daee2c-ca1d-4f67-95f9-8fa2b09f7c76</td>\n",
       "      <td>2023-10-20T12:56:00.000Z</td>\n",
       "      <td>4c629a82-589e-46e2-8d2c-6f1edb7747ae</td>\n",
       "      <td>Th, Oct 19, 2023 | Weekly Meetings - HarmonyHa...</td>\n",
       "    </tr>\n",
       "    <tr>\n",
       "      <th>1</th>\n",
       "      <td>f99302ab-5823-4b41-91ec-ee19e76c9507</td>\n",
       "      <td>HarmonyHaven Security</td>\n",
       "      <td>2023-10-07T14:00:00.000Z</td>\n",
       "      <td>4c629a82-589e-46e2-8d2c-6f1edb7747ae</td>\n",
       "      <td>2023-10-20T11:22:00.000Z</td>\n",
       "      <td>4c629a82-589e-46e2-8d2c-6f1edb7747ae</td>\n",
       "      <td></td>\n",
       "    </tr>\n",
       "    <tr>\n",
       "      <th>2</th>\n",
       "      <td>70435839-44c4-4b9b-83e5-e32bcc1b7953</td>\n",
       "      <td>HarmonyHaven TeamSpace</td>\n",
       "      <td>2023-10-04T17:15:00.000Z</td>\n",
       "      <td>73daee2c-ca1d-4f67-95f9-8fa2b09f7c76</td>\n",
       "      <td>2023-10-20T11:22:00.000Z</td>\n",
       "      <td>4c629a82-589e-46e2-8d2c-6f1edb7747ae</td>\n",
       "      <td>Brian Elliot is one of the judges for the Hack...</td>\n",
       "    </tr>\n",
       "    <tr>\n",
       "      <th>3</th>\n",
       "      <td>168dd073-847b-4c40-86fd-2ce2a38af9ff</td>\n",
       "      <td>AI Garden Journal</td>\n",
       "      <td>2023-10-09T02:44:00.000Z</td>\n",
       "      <td>6a405e7f-6ad0-4932-8f6b-f5bb2980d6b0</td>\n",
       "      <td>2023-10-20T11:22:00.000Z</td>\n",
       "      <td>4c629a82-589e-46e2-8d2c-6f1edb7747ae</td>\n",
       "      <td>Notion Tip: Here at Notion we use this templat...</td>\n",
       "    </tr>\n",
       "    <tr>\n",
       "      <th>4</th>\n",
       "      <td>f682d891-f32b-43e0-9ee0-816708106592</td>\n",
       "      <td>Secondary Research</td>\n",
       "      <td>2023-10-05T01:32:00.000Z</td>\n",
       "      <td>6a405e7f-6ad0-4932-8f6b-f5bb2980d6b0</td>\n",
       "      <td>2023-10-20T11:20:00.000Z</td>\n",
       "      <td>4c629a82-589e-46e2-8d2c-6f1edb7747ae</td>\n",
       "      <td>This is great @Brett Dickinson, thanks for add...</td>\n",
       "    </tr>\n",
       "  </tbody>\n",
       "</table>\n",
       "</div>"
      ],
      "text/plain": [
       "                                page_id               page_title  \\\n",
       "0  ee3521d2-4eb8-4877-8269-f33a3f20b797  10/19/23 Weekly Meeting   \n",
       "1  f99302ab-5823-4b41-91ec-ee19e76c9507    HarmonyHaven Security   \n",
       "2  70435839-44c4-4b9b-83e5-e32bcc1b7953  HarmonyHaven TeamSpace    \n",
       "3  168dd073-847b-4c40-86fd-2ce2a38af9ff        AI Garden Journal   \n",
       "4  f682d891-f32b-43e0-9ee0-816708106592       Secondary Research   \n",
       "\n",
       "          page_created_date                    page_created_by_id  \\\n",
       "0  2023-10-20T05:19:00.000Z  73daee2c-ca1d-4f67-95f9-8fa2b09f7c76   \n",
       "1  2023-10-07T14:00:00.000Z  4c629a82-589e-46e2-8d2c-6f1edb7747ae   \n",
       "2  2023-10-04T17:15:00.000Z  73daee2c-ca1d-4f67-95f9-8fa2b09f7c76   \n",
       "3  2023-10-09T02:44:00.000Z  6a405e7f-6ad0-4932-8f6b-f5bb2980d6b0   \n",
       "4  2023-10-05T01:32:00.000Z  6a405e7f-6ad0-4932-8f6b-f5bb2980d6b0   \n",
       "\n",
       "      page_last_update_date                page_last_update_by_id  \\\n",
       "0  2023-10-20T12:56:00.000Z  4c629a82-589e-46e2-8d2c-6f1edb7747ae   \n",
       "1  2023-10-20T11:22:00.000Z  4c629a82-589e-46e2-8d2c-6f1edb7747ae   \n",
       "2  2023-10-20T11:22:00.000Z  4c629a82-589e-46e2-8d2c-6f1edb7747ae   \n",
       "3  2023-10-20T11:22:00.000Z  4c629a82-589e-46e2-8d2c-6f1edb7747ae   \n",
       "4  2023-10-20T11:20:00.000Z  4c629a82-589e-46e2-8d2c-6f1edb7747ae   \n",
       "\n",
       "                                             content  \n",
       "0  Th, Oct 19, 2023 | Weekly Meetings - HarmonyHa...  \n",
       "1                                                     \n",
       "2  Brian Elliot is one of the judges for the Hack...  \n",
       "3  Notion Tip: Here at Notion we use this templat...  \n",
       "4  This is great @Brett Dickinson, thanks for add...  "
      ]
     },
     "execution_count": 52,
     "metadata": {},
     "output_type": "execute_result"
    }
   ],
   "source": [
    "pages_df = pd.DataFrame(structured_document_list)\n",
    "\n",
    "pages_df.head()"
   ]
  },
  {
   "cell_type": "markdown",
   "metadata": {},
   "source": [
    "### Merge in User Names"
   ]
  },
  {
   "cell_type": "code",
   "execution_count": 36,
   "metadata": {},
   "outputs": [],
   "source": [
    "pages_df = pages_df.merge(dim_user[['user_id', 'user_name', 'role']],how='left', left_on='page_created_by_id', right_on='user_id') #with created by id\n",
    "pages_df.rename(columns={'user_name': 'created_by_user', 'role': 'created_by_user_role'}, inplace=True) #rename fields\n",
    "pages_df.drop(columns=['user_id'], inplace=True) #drop user_id\n",
    "\n",
    "pages_df = pages_df.merge(dim_user[['user_id', 'user_name', 'role']],how='left', left_on='page_last_update_by_id', right_on='user_id') #with last update by id\n",
    "pages_df.rename(columns={'user_name': 'last_modified_by_user', 'role': 'last_modified_by_user_role'}, inplace=True) #rename fields\n",
    "pages_df.drop(columns=['user_id'], inplace=True) #drop user_id"
   ]
  },
  {
   "cell_type": "code",
   "execution_count": 44,
   "metadata": {},
   "outputs": [
    {
     "data": {
      "text/plain": [
       "page_title\n",
       "Survey update - 10/03/23                     2\n",
       "10/19/23 Weekly Meeting                      1\n",
       "HarmonyHaven Security                        1\n",
       "HarmonyHaven TeamSpace                       1\n",
       "AI Garden Journal                            1\n",
       "Secondary Research                           1\n",
       "Brand Identity Research                      1\n",
       "Meeting Notes Team Space                     1\n",
       "10/17/23 - Weekly Meeting                    1\n",
       "10/10/23 - Design & Development Meeting#1    1\n",
       "10/5/23 - Planning Phase Meeting             1\n",
       "Planning Phase - 2nd Meeting                 1\n",
       "Kick-Off Meeting Notes - 10/1/23             1\n",
       "Project Management & Communication Tools     1\n",
       "Survey Summary - 10/05/23                    1\n",
       "Name: count, dtype: int64"
      ]
     },
     "execution_count": 44,
     "metadata": {},
     "output_type": "execute_result"
    }
   ],
   "source": [
    "pages_df['page_title'].value_counts()"
   ]
  },
  {
   "cell_type": "markdown",
   "metadata": {},
   "source": [
    "### Convert to JSON"
   ]
  },
  {
   "cell_type": "code",
   "execution_count": 40,
   "metadata": {},
   "outputs": [],
   "source": [
    "test = pages_df.to_json(orient='records')"
   ]
  },
  {
   "cell_type": "code",
   "execution_count": 43,
   "metadata": {},
   "outputs": [],
   "source": [
    "with open('../data/dev/test_df_to_json.json', 'w') as json_output:\n",
    "    json_output.write(test)"
   ]
  },
  {
   "cell_type": "code",
   "execution_count": null,
   "metadata": {},
   "outputs": [],
   "source": []
  },
  {
   "cell_type": "markdown",
   "metadata": {},
   "source": [
    "### Test Weird Duplication"
   ]
  },
  {
   "cell_type": "code",
   "execution_count": 17,
   "metadata": {},
   "outputs": [
    {
     "data": {
      "text/plain": [
       "'0fa7ab57-628c-4fd9-b09e-5f0841d7fc54'"
      ]
     },
     "execution_count": 17,
     "metadata": {},
     "output_type": "execute_result"
    }
   ],
   "source": [
    "page_19_id = pages[6]['id']\n",
    "\n",
    "page_19_id"
   ]
  },
  {
   "cell_type": "code",
   "execution_count": 18,
   "metadata": {},
   "outputs": [
    {
     "data": {
      "text/plain": [
       "'Meeting Notes Team Space'"
      ]
     },
     "execution_count": 18,
     "metadata": {},
     "output_type": "execute_result"
    }
   ],
   "source": [
    "pages[6]['properties']['title']['title'][0]['plain_text']"
   ]
  },
  {
   "cell_type": "code",
   "execution_count": 19,
   "metadata": {},
   "outputs": [],
   "source": [
    "test_url = f'https://api.notion.com/v1/blocks/{page_19_id}/children'\n",
    "\n",
    "test_response = requests.get(test_url, headers=notion_request_headers)\n",
    "test_blocks = test_response.json()['results']"
   ]
  },
  {
   "cell_type": "code",
   "execution_count": 10,
   "metadata": {},
   "outputs": [
    {
     "data": {
      "text/plain": [
       "[{'object': 'block',\n",
       "  'id': 'ab74b5d3-d88b-4ea3-85a8-e99bdb58abbe',\n",
       "  'parent': {'type': 'page_id',\n",
       "   'page_id': 'f99302ab-5823-4b41-91ec-ee19e76c9507'},\n",
       "  'created_time': '2023-10-07T14:00:00.000Z',\n",
       "  'last_edited_time': '2023-10-07T14:00:00.000Z',\n",
       "  'created_by': {'object': 'user',\n",
       "   'id': '4c629a82-589e-46e2-8d2c-6f1edb7747ae'},\n",
       "  'last_edited_by': {'object': 'user',\n",
       "   'id': '4c629a82-589e-46e2-8d2c-6f1edb7747ae'},\n",
       "  'has_children': True,\n",
       "  'archived': False,\n",
       "  'type': 'paragraph',\n",
       "  'paragraph': {'rich_text': [], 'color': 'default'}}]"
      ]
     },
     "execution_count": 10,
     "metadata": {},
     "output_type": "execute_result"
    }
   ],
   "source": [
    "test_blocks"
   ]
  },
  {
   "cell_type": "code",
   "execution_count": 172,
   "metadata": {},
   "outputs": [],
   "source": [
    "# with open('../data/index_7.json', 'w', encoding='utf8') as f:\n",
    "#     json.dump(test_blocks, f, ensure_ascii=False, indent=4)  "
   ]
  },
  {
   "cell_type": "markdown",
   "metadata": {},
   "source": [
    "# Ideas\n",
    "\n",
    "For numbered or bulleted list, do a new paragraph and symbol at the start of each block object"
   ]
  },
  {
   "cell_type": "code",
   "execution_count": 25,
   "metadata": {},
   "outputs": [],
   "source": [
    "page_with_numbers = test_blocks[8]"
   ]
  },
  {
   "cell_type": "code",
   "execution_count": 40,
   "metadata": {},
   "outputs": [
    {
     "name": "stdout",
     "output_type": "stream",
     "text": [
      "paragraph\n",
      "numbered_list_item\n",
      "numbered_list_item\n"
     ]
    }
   ],
   "source": [
    "#test a loop through a few blocks with numbered records\n",
    "block_content_list = []\n",
    "\n",
    "n =1\n",
    "previous_block = ''\n",
    "for block in test_blocks[33:36]:\n",
    "    #save block type and content\n",
    "    try:\n",
    "        block_type = block['type']\n",
    "    except IndexError:\n",
    "        block_type = ''\n",
    "\n",
    "    #skip if block_type one of the types we won't use\n",
    "    if block_type in ['table','divider','column_list','child_page','image','']:\n",
    "        continue\n",
    "\n",
    "    #loop through annotations within block content of the types we want\n",
    "    block_annotation_list = []\n",
    "    for i in block[block_type]['rich_text']:\n",
    "        try:\n",
    "            content_item = i['plain_text']\n",
    "            block_annotation_list.append(content_item)\n",
    "        except KeyError:\n",
    "            pass\n",
    "    #add bullets and numbers if applicable\n",
    "    if block_type == 'bulleted_list_item':    \n",
    "        content = '\\n-'+''.join(block_annotation_list) #combine seperated annotations\n",
    "        previous_block = block_type #save off previous block to increment number in ordered fashion\n",
    "        print(previous_block)\n",
    "    elif block_type == 'numbered_list_item':\n",
    "        if previous_block == 'numbered_list_item':\n",
    "            content = '\\n'+str(n)+'.'+''.join(block_annotation_list) #combine seperated annotations\n",
    "            previous_block = block_type #save off previous block to increment number in ordered fashion\n",
    "            print(previous_block)\n",
    "            n += 1 #increment number\n",
    "        else:\n",
    "            n=1 #set n back to 1\n",
    "            content = '\\n'+str(n)+'.'+''.join(block_annotation_list) #combine seperated annotations\n",
    "            previous_block = block_type #save off previous block to increment number in ordered fashion\n",
    "            print(previous_block)\n",
    "            n += 1 #increment number\n",
    "    else:\n",
    "        content = ''.join(block_annotation_list) #combine seperated annotations\n",
    "        previous_block = block_type #save off previous block to increment number in ordered fash\n",
    "        print(previous_block)\n",
    "\n",
    "    block_content_list.append(content) #append the combined items to list"
   ]
  },
  {
   "cell_type": "code",
   "execution_count": 41,
   "metadata": {},
   "outputs": [
    {
     "data": {
      "text/plain": [
       "['3. They will have 3 links (features) they can click on',\n",
       " '\\n1.Project (Tasks)',\n",
       " '\\n2.Journal Entries (Team Progress)']"
      ]
     },
     "execution_count": 41,
     "metadata": {},
     "output_type": "execute_result"
    }
   ],
   "source": [
    "block_content_list"
   ]
  },
  {
   "cell_type": "markdown",
   "metadata": {},
   "source": [
    "### Blank Security Page"
   ]
  },
  {
   "cell_type": "code",
   "execution_count": 47,
   "metadata": {},
   "outputs": [
    {
     "data": {
      "text/plain": [
       "'f99302ab-5823-4b41-91ec-ee19e76c9507'"
      ]
     },
     "execution_count": 47,
     "metadata": {},
     "output_type": "execute_result"
    }
   ],
   "source": [
    "security_page = pages[1]['id']\n",
    "\n",
    "security_page"
   ]
  },
  {
   "cell_type": "code",
   "execution_count": 49,
   "metadata": {},
   "outputs": [
    {
     "data": {
      "text/plain": [
       "'HarmonyHaven Security'"
      ]
     },
     "execution_count": 49,
     "metadata": {},
     "output_type": "execute_result"
    }
   ],
   "source": [
    "security_title = pages[1]['properties']['title']['title'][0]['plain_text']\n",
    "\n",
    "security_title"
   ]
  },
  {
   "cell_type": "code",
   "execution_count": 50,
   "metadata": {},
   "outputs": [],
   "source": [
    "security_url = f'https://api.notion.com/v1/blocks/{security_page}/children'\n",
    "\n",
    "sec_resp = requests.get(security_url, headers=notion_request_headers)\n",
    "sec_blocks = sec_resp.json()['results']"
   ]
  }
 ],
 "metadata": {
  "kernelspec": {
   "display_name": "harmony",
   "language": "python",
   "name": "python3"
  },
  "language_info": {
   "codemirror_mode": {
    "name": "ipython",
    "version": 3
   },
   "file_extension": ".py",
   "mimetype": "text/x-python",
   "name": "python",
   "nbconvert_exporter": "python",
   "pygments_lexer": "ipython3",
   "version": "3.9.18"
  }
 },
 "nbformat": 4,
 "nbformat_minor": 2
}
