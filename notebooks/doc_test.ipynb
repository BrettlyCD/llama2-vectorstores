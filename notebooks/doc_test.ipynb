{
 "cells": [
  {
   "cell_type": "markdown",
   "metadata": {},
   "source": [
    "## Loading in Multiple Documents\n",
    "\n",
    "My current solution is a drag and drop. But I want to preload data from our notion. And be able to query off of that."
   ]
  },
  {
   "cell_type": "code",
   "execution_count": 2,
   "metadata": {},
   "outputs": [],
   "source": [
    "import os\n",
    "import sys\n",
    "\n",
    "from langchain.document_loaders import TextLoader\n",
    "from langchain.document_loaders import DirectoryLoader\n",
    "from langchain.indexes import VectorstoreIndexCreator\n",
    "from langchain.text_splitter import RecursiveCharacterTextSplitter\n",
    "\n",
    "data_dir = './../data/'\n",
    "\n",
    "loader = DirectoryLoader(data_dir, glob=\"*.txt\")"
   ]
  },
  {
   "cell_type": "code",
   "execution_count": 42,
   "metadata": {},
   "outputs": [],
   "source": [
    "text_splitter = RecursiveCharacterTextSplitter(chunk_size=1000, chunk_overlap=100)"
   ]
  },
  {
   "cell_type": "code",
   "execution_count": 43,
   "metadata": {},
   "outputs": [],
   "source": [
    "docs = loader.load()"
   ]
  },
  {
   "cell_type": "code",
   "execution_count": 44,
   "metadata": {},
   "outputs": [
    {
     "data": {
      "text/plain": [
       "\"Title: 10/19/23 Weekly Meeting\\n\\nCreated On: 2023-10-20T05:19:00.000Z\\n\\nTh, Oct 19, 2023 | Weekly Meetings - HarmonyHaven Hackathon Attendees: Emma Myint Kristy Deng Susan Micah Fleming  Action items from the last meeting:\\n\\nUpdates on wireframes, color schemes, icons, illustrations, and fonts.\\n\\nDecisions on KPIs (Key Performance Indicators) to be added to the dashboard wireframe.\\n\\nProgress on the Journal Demo.\\n\\nResearch related to the remote virtual hub and additional data points supporting the HarmonyHaven Solution.\\n\\nProgress on the Presentation for Demo Day Draft Ongoing Action Items Kristy will schedule the upcoming meeting on Vowel and share the link via Skype before the meeting on Oct. 24th. Kristy, Brett, and Micah will collaborate on the Dashboard content, focusing on statistics, metrics, and related details. The team needs to finalize their choice between the two primary Nav Bar options by the end of the day on Friday, Oct. 20th. Micah is responsible for updating the statistics and research data by the end of the day on Friday, Oct. 20th. The prototype should be ready in advance of the meeting scheduled for Friday, Oct. 27th. The absolute deadline is set for Monday, Oct. 30th. Susan is tasked with developing the FAQ, creating the Pitch Deck, and formulating the B2B business strategy. **Scalability**\\n\\nThe meeting on Tuesday, Oct. 24, will be conducted via Vowel\\n\\nThursday’s meeting moved to Friday, Oct. 27th\\n\\nLet Chris know by Monday, Oct.23rd when we want him to watch our presentation and provide feedback. Notes Here are a few things to think about:\\n\\nHow does HarmonyHaven make it fun for me?\\n\\nWhat makes it useful?\\n\\nWhat gets people excited about using it? Dashboard updates\\n\\nPending which content to be added to the dashboard in terms of metrics\\n\\nKudos Board & Suggestions Box are pop-ups with stats or quotes on the top, and then you can put your name and the message.\\n\\nKudos Board - after sending Kudos, it will move to the Garden Space Settings Updates\\n\\nSettings Page includes Account, Customization, Accessibility, and Help sections.\\n\\nAccount Settings Can other team members view your profile? Is that something we should consider?\\n\\nCustomization Settings Navigation Bar Updates\\n\\nWhat is the difference between the Home Page & Garden Page?\\n\\nWe voted on Nav Bar design options but need Brett’s vote as well 🙂 The home page could say “Hello, X” and have a prompt like “How's your day today?” or “Did you know….” Color Palette\\n\\nSticking with green, incorporating different tones, and using orange for the primary button. Next Steps for Design/Prototype\\n\\nSet up a design system/UI Kit → High Fidelity Screen → Prototype.\\n\\nContents of the Dashboard\\n\\nFinalizing the Nav Bar color/design Updates on the AI Journal demo\\n\\nBrett was able to get into our notion and pull out the data. And here are some ideas he thought of after. Point to ponder: Are there any other more important examples we would want to highlight? And Brett could shift his thinking there instead. Feedback:\\n\\nThe team liked the idea of combining the two prompts - showcase the summary and the next steps.\""
      ]
     },
     "execution_count": 44,
     "metadata": {},
     "output_type": "execute_result"
    }
   ],
   "source": [
    "docs[0].page_content"
   ]
  },
  {
   "cell_type": "code",
   "execution_count": 45,
   "metadata": {},
   "outputs": [],
   "source": [
    "docs_list = []\n",
    "for doc in docs:\n",
    "    text = text_splitter.split_text(doc.page_content)\n",
    "    docs_list.append(text)"
   ]
  },
  {
   "cell_type": "code",
   "execution_count": 49,
   "metadata": {},
   "outputs": [
    {
     "data": {
      "text/plain": [
       "[['Title: 10/19/23 Weekly Meeting\\n\\nCreated On: 2023-10-20T05:19:00.000Z\\n\\nTh, Oct 19, 2023 | Weekly Meetings - HarmonyHaven Hackathon Attendees: Emma Myint Kristy Deng Susan Micah Fleming  Action items from the last meeting:\\n\\nUpdates on wireframes, color schemes, icons, illustrations, and fonts.\\n\\nDecisions on KPIs (Key Performance Indicators) to be added to the dashboard wireframe.\\n\\nProgress on the Journal Demo.\\n\\nResearch related to the remote virtual hub and additional data points supporting the HarmonyHaven Solution.',\n",
       "  'Progress on the Presentation for Demo Day Draft Ongoing Action Items Kristy will schedule the upcoming meeting on Vowel and share the link via Skype before the meeting on Oct. 24th. Kristy, Brett, and Micah will collaborate on the Dashboard content, focusing on statistics, metrics, and related details. The team needs to finalize their choice between the two primary Nav Bar options by the end of the day on Friday, Oct. 20th. Micah is responsible for updating the statistics and research data by the end of the day on Friday, Oct. 20th. The prototype should be ready in advance of the meeting scheduled for Friday, Oct. 27th. The absolute deadline is set for Monday, Oct. 30th. Susan is tasked with developing the FAQ, creating the Pitch Deck, and formulating the B2B business strategy. **Scalability**\\n\\nThe meeting on Tuesday, Oct. 24, will be conducted via Vowel\\n\\nThursday’s meeting moved to Friday, Oct. 27th',\n",
       "  'Thursday’s meeting moved to Friday, Oct. 27th\\n\\nLet Chris know by Monday, Oct.23rd when we want him to watch our presentation and provide feedback. Notes Here are a few things to think about:\\n\\nHow does HarmonyHaven make it fun for me?\\n\\nWhat makes it useful?\\n\\nWhat gets people excited about using it? Dashboard updates\\n\\nPending which content to be added to the dashboard in terms of metrics\\n\\nKudos Board & Suggestions Box are pop-ups with stats or quotes on the top, and then you can put your name and the message.\\n\\nKudos Board - after sending Kudos, it will move to the Garden Space Settings Updates\\n\\nSettings Page includes Account, Customization, Accessibility, and Help sections.\\n\\nAccount Settings Can other team members view your profile? Is that something we should consider?\\n\\nCustomization Settings Navigation Bar Updates\\n\\nWhat is the difference between the Home Page & Garden Page?',\n",
       "  \"What is the difference between the Home Page & Garden Page?\\n\\nWe voted on Nav Bar design options but need Brett’s vote as well 🙂 The home page could say “Hello, X” and have a prompt like “How's your day today?” or “Did you know….” Color Palette\\n\\nSticking with green, incorporating different tones, and using orange for the primary button. Next Steps for Design/Prototype\\n\\nSet up a design system/UI Kit → High Fidelity Screen → Prototype.\\n\\nContents of the Dashboard\\n\\nFinalizing the Nav Bar color/design Updates on the AI Journal demo\\n\\nBrett was able to get into our notion and pull out the data. And here are some ideas he thought of after. Point to ponder: Are there any other more important examples we would want to highlight? And Brett could shift his thinking there instead. Feedback:\\n\\nThe team liked the idea of combining the two prompts - showcase the summary and the next steps.\"],\n",
       " [\"Title: 10/24/23 Weekly Meeting\\n\\nCreated On: 2023-10-25T00:45:00.000Z\\n\\nTues, 10/24/23 | Weekly Meetings - HarmonyHaven Hackathon Attendees: Emma Myint Kristy Deng Micah Fleming Brett Dickinson   Vowel Recording 1: https://workspace-5b7pmm1.vowel.com/meeting/bNpYLTyGdoz2d3qr Vowel Recording 2: https://workspace-qxm44vs.vowel.com/meeting/CVaD9RGEggeZgeDb  Tasks to Highlight\\n\\nOnboarding/Integration\\n\\nAI Journal\\n\\nDashboard Goals\\n\\nFinalize branding\\n\\nFinalize user flows\\n\\nFinalize which flows will have the integrated chat bot\\n\\nDelegate tasks for writing copy\\n\\nReview Micah's datapoints and research Discussion Items\\n\\nDiscuss integration of AI in chatbot and dashboard\\n\\nIntegration of harmonyhaven into existing data management ecosystem (e.g. Microsoft suite, Google workspace)\\n\\nDESIGN SYSTEM CHECKLIST (example: https://atlassian.design/brand/mission )\",\n",
       "  'DESIGN SYSTEM CHECKLIST (example: https://atlassian.design/brand/mission )\\n\\nFor content writing inspo: https://mobbin.com/browse/ios/apps Action Items Micah: start the slides and input his research to reflect the project, reach out to friends about Ai software integration Brett: work on copy and brand identity with Susan, prototype of journal (if time allows) Susan: Start on the presentation, look out for a message from us to start writing content Emma and Kristy: finish user flow map, design high-fidelity mockup screens, and prototype']]"
      ]
     },
     "execution_count": 49,
     "metadata": {},
     "output_type": "execute_result"
    }
   ],
   "source": [
    "docs_list"
   ]
  },
  {
   "cell_type": "code",
   "execution_count": 50,
   "metadata": {},
   "outputs": [],
   "source": [
    "#merge sublists\n",
    "texts2 = [item for sublist in docs_list for item in sublist]"
   ]
  },
  {
   "cell_type": "code",
   "execution_count": 53,
   "metadata": {},
   "outputs": [
    {
     "data": {
      "text/plain": [
       "['Title: 10/19/23 Weekly Meeting\\n\\nCreated On: 2023-10-20T05:19:00.000Z\\n\\nTh, Oct 19, 2023 | Weekly Meetings - HarmonyHaven Hackathon Attendees: Emma Myint Kristy Deng Susan Micah Fleming  Action items from the last meeting:\\n\\nUpdates on wireframes, color schemes, icons, illustrations, and fonts.\\n\\nDecisions on KPIs (Key Performance Indicators) to be added to the dashboard wireframe.\\n\\nProgress on the Journal Demo.\\n\\nResearch related to the remote virtual hub and additional data points supporting the HarmonyHaven Solution.',\n",
       " 'Progress on the Presentation for Demo Day Draft Ongoing Action Items Kristy will schedule the upcoming meeting on Vowel and share the link via Skype before the meeting on Oct. 24th. Kristy, Brett, and Micah will collaborate on the Dashboard content, focusing on statistics, metrics, and related details. The team needs to finalize their choice between the two primary Nav Bar options by the end of the day on Friday, Oct. 20th. Micah is responsible for updating the statistics and research data by the end of the day on Friday, Oct. 20th. The prototype should be ready in advance of the meeting scheduled for Friday, Oct. 27th. The absolute deadline is set for Monday, Oct. 30th. Susan is tasked with developing the FAQ, creating the Pitch Deck, and formulating the B2B business strategy. **Scalability**\\n\\nThe meeting on Tuesday, Oct. 24, will be conducted via Vowel\\n\\nThursday’s meeting moved to Friday, Oct. 27th',\n",
       " 'Thursday’s meeting moved to Friday, Oct. 27th\\n\\nLet Chris know by Monday, Oct.23rd when we want him to watch our presentation and provide feedback. Notes Here are a few things to think about:\\n\\nHow does HarmonyHaven make it fun for me?\\n\\nWhat makes it useful?\\n\\nWhat gets people excited about using it? Dashboard updates\\n\\nPending which content to be added to the dashboard in terms of metrics\\n\\nKudos Board & Suggestions Box are pop-ups with stats or quotes on the top, and then you can put your name and the message.\\n\\nKudos Board - after sending Kudos, it will move to the Garden Space Settings Updates\\n\\nSettings Page includes Account, Customization, Accessibility, and Help sections.\\n\\nAccount Settings Can other team members view your profile? Is that something we should consider?\\n\\nCustomization Settings Navigation Bar Updates\\n\\nWhat is the difference between the Home Page & Garden Page?',\n",
       " \"What is the difference between the Home Page & Garden Page?\\n\\nWe voted on Nav Bar design options but need Brett’s vote as well 🙂 The home page could say “Hello, X” and have a prompt like “How's your day today?” or “Did you know….” Color Palette\\n\\nSticking with green, incorporating different tones, and using orange for the primary button. Next Steps for Design/Prototype\\n\\nSet up a design system/UI Kit → High Fidelity Screen → Prototype.\\n\\nContents of the Dashboard\\n\\nFinalizing the Nav Bar color/design Updates on the AI Journal demo\\n\\nBrett was able to get into our notion and pull out the data. And here are some ideas he thought of after. Point to ponder: Are there any other more important examples we would want to highlight? And Brett could shift his thinking there instead. Feedback:\\n\\nThe team liked the idea of combining the two prompts - showcase the summary and the next steps.\",\n",
       " \"Title: 10/24/23 Weekly Meeting\\n\\nCreated On: 2023-10-25T00:45:00.000Z\\n\\nTues, 10/24/23 | Weekly Meetings - HarmonyHaven Hackathon Attendees: Emma Myint Kristy Deng Micah Fleming Brett Dickinson   Vowel Recording 1: https://workspace-5b7pmm1.vowel.com/meeting/bNpYLTyGdoz2d3qr Vowel Recording 2: https://workspace-qxm44vs.vowel.com/meeting/CVaD9RGEggeZgeDb  Tasks to Highlight\\n\\nOnboarding/Integration\\n\\nAI Journal\\n\\nDashboard Goals\\n\\nFinalize branding\\n\\nFinalize user flows\\n\\nFinalize which flows will have the integrated chat bot\\n\\nDelegate tasks for writing copy\\n\\nReview Micah's datapoints and research Discussion Items\\n\\nDiscuss integration of AI in chatbot and dashboard\\n\\nIntegration of harmonyhaven into existing data management ecosystem (e.g. Microsoft suite, Google workspace)\\n\\nDESIGN SYSTEM CHECKLIST (example: https://atlassian.design/brand/mission )\",\n",
       " 'DESIGN SYSTEM CHECKLIST (example: https://atlassian.design/brand/mission )\\n\\nFor content writing inspo: https://mobbin.com/browse/ios/apps Action Items Micah: start the slides and input his research to reflect the project, reach out to friends about Ai software integration Brett: work on copy and brand identity with Susan, prototype of journal (if time allows) Susan: Start on the presentation, look out for a message from us to start writing content Emma and Kristy: finish user flow map, design high-fidelity mockup screens, and prototype']"
      ]
     },
     "execution_count": 53,
     "metadata": {},
     "output_type": "execute_result"
    }
   ],
   "source": [
    "texts2"
   ]
  },
  {
   "cell_type": "code",
   "execution_count": 56,
   "metadata": {},
   "outputs": [],
   "source": [
    "text_metadata = [{\"source\": f\"{i+1}-pl\"} for i in range(len(texts2))]"
   ]
  },
  {
   "cell_type": "code",
   "execution_count": 57,
   "metadata": {},
   "outputs": [
    {
     "data": {
      "text/plain": [
       "[{'source': '1-pl'},\n",
       " {'source': '2-pl'},\n",
       " {'source': '3-pl'},\n",
       " {'source': '4-pl'},\n",
       " {'source': '5-pl'},\n",
       " {'source': '6-pl'}]"
      ]
     },
     "execution_count": 57,
     "metadata": {},
     "output_type": "execute_result"
    }
   ],
   "source": [
    "text_metadata"
   ]
  },
  {
   "cell_type": "code",
   "execution_count": null,
   "metadata": {},
   "outputs": [],
   "source": []
  },
  {
   "cell_type": "code",
   "execution_count": null,
   "metadata": {},
   "outputs": [],
   "source": []
  },
  {
   "cell_type": "code",
   "execution_count": null,
   "metadata": {},
   "outputs": [],
   "source": []
  },
  {
   "cell_type": "code",
   "execution_count": 22,
   "metadata": {},
   "outputs": [],
   "source": [
    "file_dir = './../data/10_24_23WeeklyMeeting.txt'"
   ]
  },
  {
   "cell_type": "code",
   "execution_count": 7,
   "metadata": {},
   "outputs": [],
   "source": [
    "with open(file_dir,'r') as f:\n",
    "    file = f.read()"
   ]
  },
  {
   "cell_type": "code",
   "execution_count": 36,
   "metadata": {},
   "outputs": [
    {
     "data": {
      "text/plain": [
       "str"
      ]
     },
     "execution_count": 36,
     "metadata": {},
     "output_type": "execute_result"
    }
   ],
   "source": [
    "type(file)"
   ]
  },
  {
   "cell_type": "code",
   "execution_count": 14,
   "metadata": {},
   "outputs": [],
   "source": [
    "texts = text_splitter.split_text(file)"
   ]
  },
  {
   "cell_type": "code",
   "execution_count": 19,
   "metadata": {},
   "outputs": [],
   "source": [
    "metadatas = [{\"source\": f\"{i}-pl\"} for i in range(len(texts))]"
   ]
  },
  {
   "cell_type": "code",
   "execution_count": 20,
   "metadata": {},
   "outputs": [
    {
     "data": {
      "text/plain": [
       "[{'source': '0-pl'}, {'source': '1-pl'}, {'source': '2-pl'}]"
      ]
     },
     "execution_count": 20,
     "metadata": {},
     "output_type": "execute_result"
    }
   ],
   "source": [
    "metadatas"
   ]
  },
  {
   "cell_type": "markdown",
   "metadata": {},
   "source": [
    "## Using Chroma for CSV Files"
   ]
  },
  {
   "cell_type": "code",
   "execution_count": 1,
   "metadata": {},
   "outputs": [],
   "source": [
    "from langchain.document_loaders.csv_loader import CSVLoader"
   ]
  },
  {
   "cell_type": "code",
   "execution_count": 5,
   "metadata": {},
   "outputs": [],
   "source": [
    "loader = CSVLoader(file_path=data_dir+'test_db.csv')\n",
    "\n",
    "data = loader.load()"
   ]
  },
  {
   "cell_type": "code",
   "execution_count": 6,
   "metadata": {},
   "outputs": [
    {
     "data": {
      "text/plain": [
       "[Document(page_content=': 0\\nrecord_id: 1\\ndatabase_id: 82ad3921-0b18-4e75-9441-c93357718bf0\\nDescription: Document mostly geared towards presentations, but good thoughts we could use on the benefit of memorable visualizations and stories.\\nLink: https://www.wilmu.edu/edtech/documents/the-science-of-effective-presenations---prezi-vs-powerpoint.pdf\\nTitle: The Science of Effective Presentations', metadata={'source': './../data/test_db.csv', 'row': 0}),\n",
       " Document(page_content=': 1\\nrecord_id: 2\\ndatabase_id: 82ad3921-0b18-4e75-9441-c93357718bf0\\nDescription: Focused towards project-based visualization, but if we want to add that feature we could convert some of these ideas into a garden representation\\nLink: https://www.getrodeo.io/blog/how-to-visualize-project-progress\\nTitle: How to Visualize Project Progress', metadata={'source': './../data/test_db.csv', 'row': 1}),\n",
       " Document(page_content=': 2\\nrecord_id: 3\\ndatabase_id: 82ad3921-0b18-4e75-9441-c93357718bf0\\nDescription: Study driven by the increase in urbanization and the stressors this can cause - and how even imagery could help alleviate this.\\nLink: https://www.ncbi.nlm.nih.gov/pmc/articles/PMC5858282/\\nTitle: Physiological Effects of Visual Stimulation with Forest Imagery', metadata={'source': './../data/test_db.csv', 'row': 2}),\n",
       " Document(page_content=': 3\\nrecord_id: 4\\ndatabase_id: 82ad3921-0b18-4e75-9441-c93357718bf0\\nDescription: Geared more towards Canva’s collaboration tools, but has some cool templates we could maybe use for some inspiration.\\nLink: https://www.canva.com/learn/visual-collaboration/#benefits-of-visual-collaboration\\nTitle: The Impact of Visual Collaboration on the Future of Teamwork', metadata={'source': './../data/test_db.csv', 'row': 3})]"
      ]
     },
     "execution_count": 6,
     "metadata": {},
     "output_type": "execute_result"
    }
   ],
   "source": [
    "data"
   ]
  },
  {
   "cell_type": "code",
   "execution_count": 7,
   "metadata": {},
   "outputs": [],
   "source": [
    "loader = DirectoryLoader(data_dir, glob='*.csv', loader_cls=CSVLoader)\n",
    "\n",
    "documents = loader.load()"
   ]
  },
  {
   "cell_type": "code",
   "execution_count": 8,
   "metadata": {},
   "outputs": [
    {
     "data": {
      "text/plain": [
       "[Document(page_content=': 0\\nrecord_id: 1\\ndatabase_id: 82ad3921-0b18-4e75-9441-c93357718bf0\\nDescription: Document mostly geared towards presentations, but good thoughts we could use on the benefit of memorable visualizations and stories.\\nLink: https://www.wilmu.edu/edtech/documents/the-science-of-effective-presenations---prezi-vs-powerpoint.pdf\\nTitle: The Science of Effective Presentations', metadata={'source': '../data/test_db.csv', 'row': 0}),\n",
       " Document(page_content=': 1\\nrecord_id: 2\\ndatabase_id: 82ad3921-0b18-4e75-9441-c93357718bf0\\nDescription: Focused towards project-based visualization, but if we want to add that feature we could convert some of these ideas into a garden representation\\nLink: https://www.getrodeo.io/blog/how-to-visualize-project-progress\\nTitle: How to Visualize Project Progress', metadata={'source': '../data/test_db.csv', 'row': 1}),\n",
       " Document(page_content=': 2\\nrecord_id: 3\\ndatabase_id: 82ad3921-0b18-4e75-9441-c93357718bf0\\nDescription: Study driven by the increase in urbanization and the stressors this can cause - and how even imagery could help alleviate this.\\nLink: https://www.ncbi.nlm.nih.gov/pmc/articles/PMC5858282/\\nTitle: Physiological Effects of Visual Stimulation with Forest Imagery', metadata={'source': '../data/test_db.csv', 'row': 2}),\n",
       " Document(page_content=': 3\\nrecord_id: 4\\ndatabase_id: 82ad3921-0b18-4e75-9441-c93357718bf0\\nDescription: Geared more towards Canva’s collaboration tools, but has some cool templates we could maybe use for some inspiration.\\nLink: https://www.canva.com/learn/visual-collaboration/#benefits-of-visual-collaboration\\nTitle: The Impact of Visual Collaboration on the Future of Teamwork', metadata={'source': '../data/test_db.csv', 'row': 3}),\n",
       " Document(page_content=': 0\\nrecord_id: 1\\ndatabase_id: 82ad3921-0b18-4e75-9441-c93357718bf0\\nDescription: Document mostly geared towards presentations, but good thoughts we could use on the benefit of memorable visualizations and stories.\\nLink: https://www.wilmu.edu/edtech/documents/the-science-of-effective-presenations---prezi-vs-powerpoint.pdf\\nTitle: The Science of Effective Presentations', metadata={'source': '../data/test_db2.csv', 'row': 0}),\n",
       " Document(page_content=': 1\\nrecord_id: 2\\ndatabase_id: 82ad3921-0b18-4e75-9441-c93357718bf0\\nDescription: Focused towards project-based visualization, but if we want to add that feature we could convert some of these ideas into a garden representation\\nLink: https://www.getrodeo.io/blog/how-to-visualize-project-progress\\nTitle: How to Visualize Project Progress', metadata={'source': '../data/test_db2.csv', 'row': 1}),\n",
       " Document(page_content=': 2\\nrecord_id: 3\\ndatabase_id: 82ad3921-0b18-4e75-9441-c93357718bf0\\nDescription: Study driven by the increase in urbanization and the stressors this can cause - and how even imagery could help alleviate this.\\nLink: https://www.ncbi.nlm.nih.gov/pmc/articles/PMC5858282/\\nTitle: Physiological Effects of Visual Stimulation with Forest Imagery', metadata={'source': '../data/test_db2.csv', 'row': 2}),\n",
       " Document(page_content=': 3\\nrecord_id: 4\\ndatabase_id: 82ad3921-0b18-4e75-9441-c93357718bf0\\nDescription: Geared more towards Canva’s collaboration tools, but has some cool templates we could maybe use for some inspiration.\\nLink: https://www.canva.com/learn/visual-collaboration/#benefits-of-visual-collaboration\\nTitle: The Impact of Visual Collaboration on the Future of Teamwork', metadata={'source': '../data/test_db2.csv', 'row': 3})]"
      ]
     },
     "execution_count": 8,
     "metadata": {},
     "output_type": "execute_result"
    }
   ],
   "source": [
    "documents"
   ]
  },
  {
   "cell_type": "markdown",
   "metadata": {},
   "source": [
    "I was expecting this to load as one document with multiple rows, but I do see the value in parsing these out. Using the same Directory Source does work to capture multiple CSVs so I'll go with that process.\n",
    "\n",
    "To start, I'll work on adding the build csv process to my ingest file."
   ]
  }
 ],
 "metadata": {
  "kernelspec": {
   "display_name": "dev",
   "language": "python",
   "name": "python3"
  },
  "language_info": {
   "codemirror_mode": {
    "name": "ipython",
    "version": 3
   },
   "file_extension": ".py",
   "mimetype": "text/x-python",
   "name": "python",
   "nbconvert_exporter": "python",
   "pygments_lexer": "ipython3",
   "version": "3.11.6"
  }
 },
 "nbformat": 4,
 "nbformat_minor": 2
}
